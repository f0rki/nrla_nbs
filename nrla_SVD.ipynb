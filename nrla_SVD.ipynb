{
 "cells": [
  {
   "cell_type": "markdown",
   "metadata": {},
   "source": [
    "# Singulärwertzerlegung (Singular Value Decomposition, SVD)\n",
    "\n",
    "Gegben: Matrix $A \\in M(m \\times n)$\n",
    "\n",
    "Gesucht: Singulärwertzerlegung $$A = U \\cdot \\Sigma \\cdot V^T$$ wobei \n",
    "- $U \\in M(m \\times m)$\n",
    "- $\\Sigma \\in M(m \\times n)$\n",
    "- $V \\in M(n \\times n)$"
   ]
  },
  {
   "cell_type": "code",
   "execution_count": 1,
   "metadata": {
    "collapsed": true
   },
   "outputs": [],
   "source": [
    "# input matrix\n",
    "A = matrix([\n",
    "[2,2],\n",
    "[-2,-2]\n",
    "])\n",
    "#"
   ]
  },
  {
   "cell_type": "code",
   "execution_count": 2,
   "metadata": {
    "collapsed": false
   },
   "outputs": [
    {
     "name": "stdout",
     "output_type": "stream",
     "text": [
      "m x n = 2 x 2\n"
     ]
    },
    {
     "data": {
      "text/html": [
       "<html><script type=\"math/tex; mode=display\">\\newcommand{\\Bold}[1]{\\mathbf{#1}}\\verb|A|\\phantom{\\verb!x!}\\verb|=| \\left(\\begin{array}{rr}\n",
       "2 & 2 \\\\\n",
       "-2 & -2\n",
       "\\end{array}\\right)</script></html>"
      ],
      "text/plain": [
       "'A =' [ 2  2]\n",
       "[-2 -2]"
      ]
     },
     "metadata": {},
     "output_type": "display_data"
    }
   ],
   "source": [
    "m, n = A.dimensions()\n",
    "print \"m x n = {} x {}\".format(m, n)\n",
    "show(\"A =\", A)"
   ]
  },
  {
   "cell_type": "markdown",
   "metadata": {},
   "source": [
    "Eigenwerte von $A^T \\cdot A$ berechnen"
   ]
  },
  {
   "cell_type": "code",
   "execution_count": 3,
   "metadata": {
    "collapsed": false
   },
   "outputs": [
    {
     "data": {
      "text/html": [
       "<html><script type=\"math/tex; mode=display\">\\newcommand{\\Bold}[1]{\\mathbf{#1}}\\left(\\begin{array}{rr}\n",
       "8 & 8 \\\\\n",
       "8 & 8\n",
       "\\end{array}\\right)</script></html>"
      ],
      "text/plain": [
       "[8 8]\n",
       "[8 8]"
      ]
     },
     "metadata": {},
     "output_type": "display_data"
    }
   ],
   "source": [
    "ata = A.T*A\n",
    "show(ata)"
   ]
  },
  {
   "cell_type": "code",
   "execution_count": 4,
   "metadata": {
    "collapsed": false
   },
   "outputs": [
    {
     "data": {
      "text/plain": [
       "[16, 0]"
      ]
     },
     "execution_count": 4,
     "metadata": {},
     "output_type": "execute_result"
    }
   ],
   "source": [
    "ata.eigenvalues()"
   ]
  },
  {
   "cell_type": "markdown",
   "metadata": {},
   "source": [
    "Singulärwerte $\\sigma_i = \\sqrt{e_i}$ für alle $e_i \\neq 0$\n",
    "\n",
    "Man erhält $r$ Singulärwerte"
   ]
  },
  {
   "cell_type": "code",
   "execution_count": 5,
   "metadata": {
    "collapsed": false
   },
   "outputs": [
    {
     "data": {
      "text/html": [
       "<html><script type=\"math/tex; mode=display\">\\newcommand{\\Bold}[1]{\\mathbf{#1}}\\left[4\\right]</script></html>"
      ],
      "text/plain": [
       "[4]"
      ]
     },
     "metadata": {},
     "output_type": "display_data"
    },
    {
     "name": "stdout",
     "output_type": "stream",
     "text": [
      "r = 1\n"
     ]
    }
   ],
   "source": [
    "SV = [sqrt(abs(e)) for e in ata.eigenvalues() if e != 0]\n",
    "r = len(SV)\n",
    "sorted(SV)\n",
    "show(SV)\n",
    "print\"r =\", r"
   ]
  },
  {
   "cell_type": "markdown",
   "metadata": {},
   "source": [
    "Orthonormieren der Eigenvektoren von $A^T A$ um die Matrix $V$ zu erhalten."
   ]
  },
  {
   "cell_type": "code",
   "execution_count": 6,
   "metadata": {
    "collapsed": true
   },
   "outputs": [],
   "source": [
    "ata.eigenvectors_left()\n",
    "V = []\n",
    "EW = []\n",
    "for x in ata.eigenvectors_left():\n",
    "    for y in x[1]:\n",
    "        EW.append(x[0])\n",
    "        V.append(vector([val for val in y]))"
   ]
  },
  {
   "cell_type": "code",
   "execution_count": 7,
   "metadata": {
    "collapsed": true
   },
   "outputs": [],
   "source": [
    "# input your own EW/EVs if they differ in position\n",
    "#EW = []\n",
    "#V = []"
   ]
  },
  {
   "cell_type": "code",
   "execution_count": 8,
   "metadata": {
    "collapsed": false
   },
   "outputs": [
    {
     "name": "stdout",
     "output_type": "stream",
     "text": [
      "EW/EV 0\n"
     ]
    },
    {
     "data": {
      "text/html": [
       "<html><script type=\"math/tex; mode=display\">\\newcommand{\\Bold}[1]{\\mathbf{#1}}16 \\verb|,| \\left(1,\\,1\\right)</script></html>"
      ],
      "text/plain": [
       "16 ', ' (1, 1)"
      ]
     },
     "metadata": {},
     "output_type": "display_data"
    },
    {
     "name": "stdout",
     "output_type": "stream",
     "text": [
      "EW/EV 1\n"
     ]
    },
    {
     "data": {
      "text/html": [
       "<html><script type=\"math/tex; mode=display\">\\newcommand{\\Bold}[1]{\\mathbf{#1}}0 \\verb|,| \\left(1,\\,-1\\right)</script></html>"
      ],
      "text/plain": [
       "0 ', ' (1, -1)"
      ]
     },
     "metadata": {},
     "output_type": "display_data"
    }
   ],
   "source": [
    "for i, (e, vs) in enumerate(zip(EW, V)):\n",
    "    print \"EW/EV\", i\n",
    "    show(e, \", \", vs)"
   ]
  },
  {
   "cell_type": "markdown",
   "metadata": {},
   "source": [
    "Gram-Schmidt Verfahren zur Orthonormalisierung"
   ]
  },
  {
   "cell_type": "code",
   "execution_count": 9,
   "metadata": {
    "collapsed": false
   },
   "outputs": [
    {
     "data": {
      "text/html": [
       "<html><script type=\"math/tex; mode=display\">\\newcommand{\\Bold}[1]{\\mathbf{#1}}v_0 = \\left(1,\\,1\\right)</script></html>"
      ],
      "text/plain": [
       "v_0 = (1, 1)"
      ]
     },
     "metadata": {},
     "output_type": "display_data"
    },
    {
     "data": {
      "text/html": [
       "<html><script type=\"math/tex; mode=display\">\\newcommand{\\Bold}[1]{\\mathbf{#1}}w_0 = \\left(\\frac{1}{2} \\, \\sqrt{2},\\,\\frac{1}{2} \\, \\sqrt{2}\\right)</script></html>"
      ],
      "text/plain": [
       "w_0 = (1/2*sqrt(2), 1/2*sqrt(2))"
      ]
     },
     "metadata": {},
     "output_type": "display_data"
    },
    {
     "name": "stdout",
     "output_type": "stream",
     "text": [
      "\n"
     ]
    },
    {
     "data": {
      "text/html": [
       "<html><script type=\"math/tex; mode=display\">\\newcommand{\\Bold}[1]{\\mathbf{#1}}v_1 = \\left(1,\\,-1\\right)</script></html>"
      ],
      "text/plain": [
       "v_1 = (1, -1)"
      ]
     },
     "metadata": {},
     "output_type": "display_data"
    },
    {
     "data": {
      "text/html": [
       "<html><script type=\"math/tex; mode=display\">\\newcommand{\\Bold}[1]{\\mathbf{#1}}u_1 = \\left(1,\\,-1\\right)</script></html>"
      ],
      "text/plain": [
       "u_1 = (1, -1)"
      ]
     },
     "metadata": {},
     "output_type": "display_data"
    },
    {
     "data": {
      "text/html": [
       "<html><script type=\"math/tex; mode=display\">\\newcommand{\\Bold}[1]{\\mathbf{#1}}w_1 = \\left(\\frac{1}{2} \\, \\sqrt{2},\\,-\\frac{1}{2} \\, \\sqrt{2}\\right)</script></html>"
      ],
      "text/plain": [
       "w_1 = (1/2*sqrt(2), -1/2*sqrt(2))"
      ]
     },
     "metadata": {},
     "output_type": "display_data"
    },
    {
     "name": "stdout",
     "output_type": "stream",
     "text": [
      "\n"
     ]
    }
   ],
   "source": [
    "W = []\n",
    "U = []\n",
    "W.append((1/(V[0].norm())) * V[0])\n",
    "show(LatexExpr(\"v_0 =\"), V[0])\n",
    "show(LatexExpr(\"w_0 =\"), W[0])\n",
    "print\n",
    "for i, v in enumerate(V[1:]):\n",
    "    show(LatexExpr(\"v_{} =\".format(i+1)), v)\n",
    "    s = sum([(v.dot_product(w) * w) for w in W])\n",
    "    u = v - s\n",
    "    show(LatexExpr(\"u_{} =\".format(i+1)), u)\n",
    "    U.append(u)\n",
    "    w = (1/u.norm()) * u\n",
    "    show(LatexExpr(\"w_{} =\".format(i+1)), w)\n",
    "    W.append(w)\n",
    "    print"
   ]
  },
  {
   "cell_type": "code",
   "execution_count": null,
   "metadata": {
    "collapsed": false
   },
   "outputs": [],
   "source": []
  },
  {
   "cell_type": "markdown",
   "metadata": {},
   "source": [
    "Berechnen der Spaltenvektoren $u_i$ der Matrix $U$\n",
    "\n",
    "$$ u_i = \\frac{1}{\\sigma_i} A v_i \\quad i = 1, \\ldots, r$$"
   ]
  },
  {
   "cell_type": "code",
   "execution_count": 10,
   "metadata": {
    "collapsed": true
   },
   "outputs": [],
   "source": [
    "U = []\n",
    "for e,v in zip(EW, W):\n",
    "    if e != 0:\n",
    "        u = (1/sqrt(e)) * A * v\n",
    "        U.append(u)\n",
    "\n",
    "# add an orthogonal vector if we miss some values\n",
    "if len(U) != m:\n",
    "    if len(U[0]) == 1:\n",
    "        U.append(-1 * U[0])\n",
    "    elif len(U[0]) == 2:\n",
    "        U.append(vector([-1 * U[0][1], U[0][0]]))\n",
    "    elif len(U[0]) == 3:\n",
    "        assert len(U) == 2, \"need at least two vectors already in U to find another orthogonal vector\"\n",
    "        # we can use the cross product to find a orthogonal vector\n",
    "        U.append(U[0].cross_product(U[1]))\n",
    "    else:\n",
    "        raise Exception(\"Can't handle dimensions > 3 in this case :'( \")"
   ]
  },
  {
   "cell_type": "code",
   "execution_count": 11,
   "metadata": {
    "collapsed": false
   },
   "outputs": [
    {
     "data": {
      "text/html": [
       "<html><script type=\"math/tex; mode=display\">\\newcommand{\\Bold}[1]{\\mathbf{#1}}\\left(\\frac{1}{2} \\, \\sqrt{2},\\,-\\frac{1}{2} \\, \\sqrt{2}\\right) \\left(\\frac{1}{2} \\, \\sqrt{2},\\,\\frac{1}{2} \\, \\sqrt{2}\\right)</script></html>"
      ],
      "text/plain": [
       "(1/2*sqrt(2), -1/2*sqrt(2)) (1/2*sqrt(2), 1/2*sqrt(2))"
      ]
     },
     "metadata": {},
     "output_type": "display_data"
    }
   ],
   "source": [
    "show(*U)"
   ]
  },
  {
   "cell_type": "code",
   "execution_count": 12,
   "metadata": {
    "collapsed": true
   },
   "outputs": [],
   "source": [
    "U = matrix(U).T\n",
    "V = matrix(W).T\n",
    "Vt = V.T\n",
    "D = matrix([ [0] * i + [sv] + [0] * (len(SV) - i - 1) for i, sv in enumerate(SV)])\n",
    "S = matrix([[0] * i + [SV[i]] + [0] * (n - i - 1) \n",
    "            if i < len(SV) \n",
    "            else [0] * n \n",
    "            for i in range(m)])"
   ]
  },
  {
   "cell_type": "code",
   "execution_count": 13,
   "metadata": {
    "collapsed": true
   },
   "outputs": [],
   "source": [
    "assert U.dimensions() == (m, m), \"dimensions of U don't match: \" + str(U.dimensions())\n",
    "assert S.dimensions() == (m, n), \"dimensions of S don't match: \" + str(S.dimensions())\n",
    "assert V.dimensions() == (n, n), \"dimensions of V don't match: \" + str(V.dimensions())"
   ]
  },
  {
   "cell_type": "code",
   "execution_count": 14,
   "metadata": {
    "collapsed": false
   },
   "outputs": [
    {
     "data": {
      "text/html": [
       "<html><script type=\"math/tex; mode=display\">\\newcommand{\\Bold}[1]{\\mathbf{#1}}\\verb|U|\\phantom{\\verb!x!}\\verb|=| \\left(\\begin{array}{rr}\n",
       "\\frac{1}{2} \\, \\sqrt{2} & \\frac{1}{2} \\, \\sqrt{2} \\\\\n",
       "-\\frac{1}{2} \\, \\sqrt{2} & \\frac{1}{2} \\, \\sqrt{2}\n",
       "\\end{array}\\right) \\verb|,|\\phantom{\\verb!x!}\\verb|S|\\phantom{\\verb!x!}\\verb|=| \\left(\\begin{array}{rr}\n",
       "4 & 0 \\\\\n",
       "0 & 0\n",
       "\\end{array}\\right) \\verb|,|\\phantom{\\verb!x!}\\verb|V|\\phantom{\\verb!x!}\\verb|=| \\left(\\begin{array}{rr}\n",
       "\\frac{1}{2} \\, \\sqrt{2} & \\frac{1}{2} \\, \\sqrt{2} \\\\\n",
       "\\frac{1}{2} \\, \\sqrt{2} & -\\frac{1}{2} \\, \\sqrt{2}\n",
       "\\end{array}\\right)</script></html>"
      ],
      "text/plain": [
       "'U = ' [ 1/2*sqrt(2)  1/2*sqrt(2)]\n",
       "[-1/2*sqrt(2)  1/2*sqrt(2)] ', S = ' [4 0]\n",
       "[0 0] ', V = ' [ 1/2*sqrt(2)  1/2*sqrt(2)]\n",
       "[ 1/2*sqrt(2) -1/2*sqrt(2)]"
      ]
     },
     "metadata": {},
     "output_type": "display_data"
    }
   ],
   "source": [
    "show(\"U = \", U, \", S = \", S, \", V = \", V)"
   ]
  },
  {
   "cell_type": "code",
   "execution_count": 15,
   "metadata": {
    "collapsed": false
   },
   "outputs": [
    {
     "data": {
      "text/html": [
       "<html><script type=\"math/tex; mode=display\">\\newcommand{\\Bold}[1]{\\mathbf{#1}}\\left(\\begin{array}{rr}\n",
       "2 & 2 \\\\\n",
       "-2 & -2\n",
       "\\end{array}\\right)  = A : \\mathrm{True}</script></html>"
      ],
      "text/plain": [
       "[ 2  2]\n",
       "[-2 -2]  = A : True"
      ]
     },
     "metadata": {},
     "output_type": "display_data"
    }
   ],
   "source": [
    "show(U * S * Vt, LatexExpr(\" = A :\"), (U * S * Vt) == A)"
   ]
  },
  {
   "cell_type": "markdown",
   "metadata": {},
   "source": [
    "Comparison with sage implementation of SVD. (only available on RealDoubleField matrices)"
   ]
  },
  {
   "cell_type": "code",
   "execution_count": 16,
   "metadata": {
    "collapsed": false
   },
   "outputs": [
    {
     "data": {
      "text/html": [
       "<html><script type=\"math/tex; mode=display\">\\newcommand{\\Bold}[1]{\\mathbf{#1}}\\left(\\begin{array}{rr}\n",
       "-0.707106781187 & 0.707106781187 \\\\\n",
       "0.707106781187 & 0.707106781187\n",
       "\\end{array}\\right) \\left(\\begin{array}{rr}\n",
       "4.0 & 0.0 \\\\\n",
       "0.0 & 0.0\n",
       "\\end{array}\\right) \\left(\\begin{array}{rr}\n",
       "-0.707106781187 & -0.707106781187 \\\\\n",
       "-0.707106781187 & 0.707106781187\n",
       "\\end{array}\\right)</script></html>"
      ],
      "text/plain": [
       "[-0.7071067811865472  0.7071067811865475]\n",
       "[ 0.7071067811865475  0.7071067811865475] [4.0 0.0]\n",
       "[0.0 0.0] [-0.7071067811865476 -0.7071067811865475]\n",
       "[-0.7071067811865475  0.7071067811865476]"
      ]
     },
     "metadata": {},
     "output_type": "display_data"
    }
   ],
   "source": [
    "Ar = matrix(RDF, A)\n",
    "Ur, Sr, Vr = Ar.SVD()\n",
    "show(Ur, Sr, Vr)"
   ]
  },
  {
   "cell_type": "code",
   "execution_count": 17,
   "metadata": {
    "collapsed": false
   },
   "outputs": [
    {
     "data": {
      "text/html": [
       "<html><script type=\"math/tex; mode=display\">\\newcommand{\\Bold}[1]{\\mathbf{#1}}\\left(\\begin{array}{rr}\n",
       "2.0 & 2.0 \\\\\n",
       "-2.0 & -2.0\n",
       "\\end{array}\\right)</script></html>"
      ],
      "text/plain": [
       "[ 1.9999999999999993  1.9999999999999991]\n",
       "[               -2.0 -1.9999999999999996]"
      ]
     },
     "metadata": {},
     "output_type": "display_data"
    }
   ],
   "source": [
    "show(Ur * Sr * Vr)"
   ]
  },
  {
   "cell_type": "markdown",
   "metadata": {},
   "source": [
    "## Moore-Penrose Pseudo-Inverse\n",
    "\n",
    "- Gegeben: singuläre Matrix $A$ und Vektor $v$\n",
    "- Gesucht: $x$ in $A \\cdot x = v$\n",
    "\n",
    "Die Pseudoinverse kann mit SVD berechnet werden als:\n",
    "$$A^{\\#} = V \\cdot \\Sigma^{\\#} \\cdot U^{T}$$\n",
    "\n",
    "$$\\text{mit} \\quad \\Sigma^{\\#} = \\begin{pmatrix}\n",
    "D^{-1} & 0 \\\\\n",
    "0 & 0 \\\\\n",
    "\\end{pmatrix} \\in M(n \\times m) \\quad \\text{ und } \\quad\n",
    "D^{-1} = \\begin{pmatrix}\n",
    "\\frac{1}{\\sigma_1} & 0 & \\ldots & 0 \\\\\n",
    "0 & \\frac{1}{\\sigma_2} & \\ldots & 0 \\\\\n",
    "\\vdots & \\vdots & \\ddots & \\vdots \\\\\n",
    "0 & 0 & \\ldots & \\frac{1}{\\sigma_r} \\\\\n",
    "\\end{pmatrix} \n",
    "$$\n",
    "\n",
    "Das Gleichungssystem kann dann gelöst werden mit:\n",
    "$$ x = A^{\\#} \\cdot v$$"
   ]
  },
  {
   "cell_type": "code",
   "execution_count": 18,
   "metadata": {
    "collapsed": false
   },
   "outputs": [
    {
     "data": {
      "text/html": [
       "<html><script type=\"math/tex; mode=display\">\\newcommand{\\Bold}[1]{\\mathbf{#1}}\\left(1,\\,2\\right)</script></html>"
      ],
      "text/plain": [
       "(1, 2)"
      ]
     },
     "metadata": {},
     "output_type": "display_data"
    }
   ],
   "source": [
    "# input: \n",
    "v = vector([1,2])\n",
    "#\n",
    "show(v)"
   ]
  },
  {
   "cell_type": "code",
   "execution_count": 19,
   "metadata": {
    "collapsed": false
   },
   "outputs": [
    {
     "data": {
      "text/html": [
       "<html><script type=\"math/tex; mode=display\">\\newcommand{\\Bold}[1]{\\mathbf{#1}}\\left(\\begin{array}{rr}\n",
       "\\frac{1}{4} & 0 \\\\\n",
       "0 & 0\n",
       "\\end{array}\\right)</script></html>"
      ],
      "text/plain": [
       "[1/4   0]\n",
       "[  0   0]"
      ]
     },
     "metadata": {},
     "output_type": "display_data"
    }
   ],
   "source": [
    "Sp = matrix(QQ, m, n, (D^-1).list() + [0] * (m * n - prod(D.dimensions())))\n",
    "show(Sp)"
   ]
  },
  {
   "cell_type": "code",
   "execution_count": 20,
   "metadata": {
    "collapsed": false
   },
   "outputs": [
    {
     "data": {
      "text/html": [
       "<html><script type=\"math/tex; mode=display\">\\newcommand{\\Bold}[1]{\\mathbf{#1}}\\left(\\begin{array}{rr}\n",
       "\\frac{1}{8} & -\\frac{1}{8} \\\\\n",
       "\\frac{1}{8} & -\\frac{1}{8}\n",
       "\\end{array}\\right)</script></html>"
      ],
      "text/plain": [
       "[ 1/8 -1/8]\n",
       "[ 1/8 -1/8]"
      ]
     },
     "metadata": {},
     "output_type": "display_data"
    }
   ],
   "source": [
    "Apinv = V * Sp * U.T\n",
    "show(Apinv)"
   ]
  },
  {
   "cell_type": "code",
   "execution_count": 21,
   "metadata": {
    "collapsed": false
   },
   "outputs": [
    {
     "data": {
      "text/html": [
       "<html><script type=\"math/tex; mode=display\">\\newcommand{\\Bold}[1]{\\mathbf{#1}}\\left(-\\frac{1}{8},\\,-\\frac{1}{8}\\right)</script></html>"
      ],
      "text/plain": [
       "(-1/8, -1/8)"
      ]
     },
     "metadata": {},
     "output_type": "display_data"
    }
   ],
   "source": [
    "x = Apinv * v\n",
    "show(x)"
   ]
  },
  {
   "cell_type": "markdown",
   "metadata": {},
   "source": [
    "Using numpy.linalg module"
   ]
  },
  {
   "cell_type": "code",
   "execution_count": 22,
   "metadata": {
    "collapsed": false
   },
   "outputs": [
    {
     "data": {
      "text/html": [
       "<html><script type=\"math/tex; mode=display\">\\newcommand{\\Bold}[1]{\\mathbf{#1}}\\left(-0.125,\\,-0.125\\right)</script></html>"
      ],
      "text/plain": [
       "(-0.12500000000000006, -0.125)"
      ]
     },
     "metadata": {},
     "output_type": "display_data"
    }
   ],
   "source": [
    "MN = A.numpy()\n",
    "import numpy\n",
    "x = matrix(numpy.linalg.pinv(MN))*v\n",
    "show(x)"
   ]
  }
 ],
 "metadata": {
  "kernelspec": {
   "display_name": "SageMath 7.0",
   "language": "",
   "name": "sagemath"
  },
  "language_info": {
   "codemirror_mode": {
    "name": "ipython",
    "version": 2
   },
   "file_extension": ".py",
   "mimetype": "text/x-python",
   "name": "python",
   "nbconvert_exporter": "python",
   "pygments_lexer": "ipython2",
   "version": "2.7.11"
  }
 },
 "nbformat": 4,
 "nbformat_minor": 0
}
