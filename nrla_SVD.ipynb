{
 "cells": [
  {
   "cell_type": "markdown",
   "metadata": {},
   "source": [
    "# Singulärwertzerlegung (Singular Value Decomposition, SVD)\n",
    "\n",
    "Gegben: Matrix $A \\in M(m \\times n)$\n",
    "\n",
    "Gesucht: Zerlegung $$A = U \\Sigma V^T$$ wobei $U \\in M(m \\times m)$, $\\Sigma \\in M(m \\times n)$ und $V \\in M(n \\times n)$"
   ]
  },
  {
   "cell_type": "code",
   "execution_count": 1,
   "metadata": {
    "collapsed": true
   },
   "outputs": [],
   "source": [
    "# input matrix\n",
    "A = matrix([\n",
    "[3,-2],\n",
    "[-2,3]\n",
    "])"
   ]
  },
  {
   "cell_type": "code",
   "execution_count": 2,
   "metadata": {
    "collapsed": false
   },
   "outputs": [
    {
     "name": "stdout",
     "output_type": "stream",
     "text": [
      "[ 3 -2]\n",
      "[-2  3]  2 x 2\n"
     ]
    }
   ],
   "source": [
    "m, n = A.dimensions()\n",
    "print A, \" {} x {}\".format(m, n)"
   ]
  },
  {
   "cell_type": "markdown",
   "metadata": {},
   "source": [
    "1. Eigenwerte von $A^T A$"
   ]
  },
  {
   "cell_type": "code",
   "execution_count": 3,
   "metadata": {
    "collapsed": false
   },
   "outputs": [
    {
     "data": {
      "text/plain": [
       "[ 13 -12]\n",
       "[-12  13]"
      ]
     },
     "execution_count": 3,
     "metadata": {},
     "output_type": "execute_result"
    }
   ],
   "source": [
    "ata = A.T*A; ata"
   ]
  },
  {
   "cell_type": "code",
   "execution_count": 4,
   "metadata": {
    "collapsed": false
   },
   "outputs": [
    {
     "data": {
      "text/plain": [
       "[25, 1]"
      ]
     },
     "execution_count": 4,
     "metadata": {},
     "output_type": "execute_result"
    }
   ],
   "source": [
    "ata.eigenvalues()"
   ]
  },
  {
   "cell_type": "markdown",
   "metadata": {},
   "source": [
    "2. Singulärwerte $\\sigma_i = \\sqrt{e_i}$ für alle $e_i \\neq 0$"
   ]
  },
  {
   "cell_type": "code",
   "execution_count": 5,
   "metadata": {
    "collapsed": false
   },
   "outputs": [
    {
     "data": {
      "text/plain": [
       "[5, 1]"
      ]
     },
     "execution_count": 5,
     "metadata": {},
     "output_type": "execute_result"
    }
   ],
   "source": [
    "SV = [sqrt(abs(e)) for e in ata.eigenvalues() if e != 0]\n",
    "sorted(SV)\n",
    "SV"
   ]
  },
  {
   "cell_type": "markdown",
   "metadata": {},
   "source": [
    "3. Orthonormieren der Eigenvektoren von $A^T A$ um die Matrix $V$ zu erhalten."
   ]
  },
  {
   "cell_type": "code",
   "execution_count": 6,
   "metadata": {
    "collapsed": true
   },
   "outputs": [],
   "source": [
    "ata.eigenvectors_left()\n",
    "V = []\n",
    "EW = []\n",
    "for x in ata.eigenvectors_left():\n",
    "    for y in x[1]:\n",
    "        EW.append(x[0])\n",
    "        V.append(vector([val for val in y]))"
   ]
  },
  {
   "cell_type": "code",
   "execution_count": 7,
   "metadata": {
    "collapsed": true
   },
   "outputs": [],
   "source": [
    "# input your own EW/EVs if they differ in position\n",
    "#EW = []\n",
    "#V = []"
   ]
  },
  {
   "cell_type": "code",
   "execution_count": 8,
   "metadata": {
    "collapsed": false
   },
   "outputs": [
    {
     "data": {
      "text/plain": [
       "([25, 1], [(1, -1), (1, 1)])"
      ]
     },
     "execution_count": 8,
     "metadata": {},
     "output_type": "execute_result"
    }
   ],
   "source": [
    "EW, V"
   ]
  },
  {
   "cell_type": "markdown",
   "metadata": {},
   "source": [
    "Gram-Schmidt Verfahren zur Orthonormalisierung"
   ]
  },
  {
   "cell_type": "code",
   "execution_count": 9,
   "metadata": {
    "collapsed": true
   },
   "outputs": [],
   "source": [
    "W = []\n",
    "U = []\n",
    "W.append((1/(V[0].norm())) * V[0])\n",
    "for v in V[1:]:\n",
    "    s = sum([(v.dot_product(w) * w) for w in W])\n",
    "    u = v - s\n",
    "    U.append(u)\n",
    "    w = (1/u.norm()) * u\n",
    "    W.append(w)"
   ]
  },
  {
   "cell_type": "code",
   "execution_count": 10,
   "metadata": {
    "collapsed": false
   },
   "outputs": [
    {
     "data": {
      "text/plain": [
       "[(1, -1), (1, 1)]"
      ]
     },
     "execution_count": 10,
     "metadata": {},
     "output_type": "execute_result"
    }
   ],
   "source": [
    "V"
   ]
  },
  {
   "cell_type": "code",
   "execution_count": 11,
   "metadata": {
    "collapsed": false
   },
   "outputs": [
    {
     "data": {
      "text/plain": [
       "[(1/2*sqrt(2), -1/2*sqrt(2)), (1/2*sqrt(2), 1/2*sqrt(2))]"
      ]
     },
     "execution_count": 11,
     "metadata": {},
     "output_type": "execute_result"
    }
   ],
   "source": [
    "W"
   ]
  },
  {
   "cell_type": "code",
   "execution_count": 12,
   "metadata": {
    "collapsed": false
   },
   "outputs": [
    {
     "data": {
      "text/plain": [
       "[(1, 1)]"
      ]
     },
     "execution_count": 12,
     "metadata": {},
     "output_type": "execute_result"
    }
   ],
   "source": [
    "U"
   ]
  },
  {
   "cell_type": "markdown",
   "metadata": {},
   "source": [
    "4. Berechnung der Spaltenvektoren $u_i$ der Matrix $U$\n",
    "\n",
    "$$ u_i = \\frac{1}{\\sigma_i} A v_i $$"
   ]
  },
  {
   "cell_type": "code",
   "execution_count": 13,
   "metadata": {
    "collapsed": true
   },
   "outputs": [],
   "source": [
    "U = []\n",
    "for e,v in zip(EW, W):\n",
    "    if e != 0:\n",
    "        u = (1/sqrt(e)) * A * v\n",
    "        U.append(u)\n",
    "\n",
    "# add an orthogonal vector if we miss some values\n",
    "if len(U) != m:\n",
    "    if len(U[0]) == 1:\n",
    "        U.append(-1 * U[0])\n",
    "    elif len(U[0]) == 2:\n",
    "        U.append(vector([-1 * U[0][1], U[0][0]]))\n",
    "    elif len(U[0]) == 3:\n",
    "        assert len(U) == 2\n",
    "        U.append(U[0].cross_product(U[1]))\n",
    "    else:\n",
    "        raise Exception(\"Can't handle dimensions > 3 in this case :'( \")"
   ]
  },
  {
   "cell_type": "code",
   "execution_count": 14,
   "metadata": {
    "collapsed": false
   },
   "outputs": [
    {
     "data": {
      "text/plain": [
       "[(1/2*sqrt(2), -1/2*sqrt(2)), (1/2*sqrt(2), 1/2*sqrt(2))]"
      ]
     },
     "execution_count": 14,
     "metadata": {},
     "output_type": "execute_result"
    }
   ],
   "source": [
    "U"
   ]
  },
  {
   "cell_type": "code",
   "execution_count": 15,
   "metadata": {
    "collapsed": true
   },
   "outputs": [],
   "source": [
    "U = matrix(U).T\n",
    "V = matrix(W).T\n",
    "Vt = V.T\n",
    "D = matrix([ [0] * i + [sv] + [0] * (len(SV) - i - 1) for i, sv in enumerate(SV)])\n",
    "S = matrix([[0] * i + [SV[i]] + [0] * (n - i - 1) \n",
    "            if i < len(SV) \n",
    "            else [0] * n \n",
    "            for i in range(m)])"
   ]
  },
  {
   "cell_type": "code",
   "execution_count": 16,
   "metadata": {
    "collapsed": true
   },
   "outputs": [],
   "source": [
    "assert U.dimensions() == (m, m), \"dimensions of U don't match: \" + str(U.dimensions())\n",
    "assert S.dimensions() == (m, n), \"dimensions of S don't match: \" + str(S.dimensions())\n",
    "assert V.dimensions() == (n, n), \"dimensions of V don't match: \" + str(V.dimensions())"
   ]
  },
  {
   "cell_type": "code",
   "execution_count": 17,
   "metadata": {
    "collapsed": false
   },
   "outputs": [
    {
     "data": {
      "text/plain": [
       "(\n",
       "[ 1/2*sqrt(2)  1/2*sqrt(2)]  [5 0]  [ 1/2*sqrt(2)  1/2*sqrt(2)]\n",
       "[-1/2*sqrt(2)  1/2*sqrt(2)], [0 1], [-1/2*sqrt(2)  1/2*sqrt(2)]\n",
       ")"
      ]
     },
     "execution_count": 17,
     "metadata": {},
     "output_type": "execute_result"
    }
   ],
   "source": [
    "U, S, V"
   ]
  },
  {
   "cell_type": "code",
   "execution_count": 18,
   "metadata": {
    "collapsed": false
   },
   "outputs": [
    {
     "data": {
      "text/plain": [
       "(\n",
       "[ 3 -2]      \n",
       "[-2  3], True\n",
       ")"
      ]
     },
     "execution_count": 18,
     "metadata": {},
     "output_type": "execute_result"
    }
   ],
   "source": [
    "U * S * Vt, (U * S * Vt) == A"
   ]
  },
  {
   "cell_type": "markdown",
   "metadata": {},
   "source": [
    "Comparison with sage implementation of SVD. (only available on RealDoubleField matrices)"
   ]
  },
  {
   "cell_type": "code",
   "execution_count": 19,
   "metadata": {
    "collapsed": false
   },
   "outputs": [
    {
     "data": {
      "text/plain": [
       "(\n",
       "[-0.7071067811865476  0.7071067811865474]\n",
       "[ 0.7071067811865476  0.7071067811865477],\n",
       "\n",
       "[ 4.999999999999999                0.0]\n",
       "[               0.0 1.0000000000000002],\n",
       "\n",
       "[-0.7071067811865476  0.7071067811865474]\n",
       "[ 0.7071067811865474  0.7071067811865476]\n",
       ")"
      ]
     },
     "execution_count": 19,
     "metadata": {},
     "output_type": "execute_result"
    }
   ],
   "source": [
    "Ar = matrix([[RDF(A[i,j]) for j in range(A.dimensions()[1])] for i in range(A.dimensions()[0])])\n",
    "Ur, Sr, Vr = Ar.SVD()\n",
    "Ur, Sr, Vr"
   ]
  },
  {
   "cell_type": "code",
   "execution_count": 20,
   "metadata": {
    "collapsed": false
   },
   "outputs": [
    {
     "data": {
      "text/plain": [
       "[                3.0 -1.9999999999999991]\n",
       "[               -2.0   2.999999999999999]"
      ]
     },
     "execution_count": 20,
     "metadata": {},
     "output_type": "execute_result"
    }
   ],
   "source": [
    "Ur * Sr * Vr"
   ]
  },
  {
   "cell_type": "code",
   "execution_count": null,
   "metadata": {
    "collapsed": true
   },
   "outputs": [],
   "source": []
  }
 ],
 "metadata": {
  "kernelspec": {
   "display_name": "SageMath 6.10",
   "language": "",
   "name": "sagemath"
  },
  "language_info": {
   "codemirror_mode": {
    "name": "ipython",
    "version": 2
   },
   "file_extension": ".py",
   "mimetype": "text/x-python",
   "name": "python",
   "nbconvert_exporter": "python",
   "pygments_lexer": "ipython2",
   "version": "2.7.11"
  }
 },
 "nbformat": 4,
 "nbformat_minor": 0
}
