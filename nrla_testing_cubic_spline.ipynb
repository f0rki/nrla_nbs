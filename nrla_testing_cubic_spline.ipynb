{
 "cells": [
  {
   "cell_type": "markdown",
   "metadata": {},
   "source": [
    "# Bedingungen fuer Kubische Spline-Interpolierende\n",
    "\n",
    "Angenommen $S(x)$ ist eine kubische Spline-Interpolierende für $n$ Punkte, dann muss gelten:\n",
    "\n",
    "1. $S_j(x_{j+1}) = S_{j+1}(x_{j+1})$\n",
    "2. $S'_j(x_{j+1}) = S'_{j+1}(x_{j+1})$\n",
    "3. $S''_j(x_{j+1}) = S''_{j+1}(x_{j+1})$\n",
    "4. $S''_0(x_0) = S''_n(x_n)$ = 0"
   ]
  },
  {
   "cell_type": "markdown",
   "metadata": {},
   "source": [
    "Aufgabenstellung: Testen ob eine Funktion eine kubische Spline-Interpolierende ist.\n",
    "\n",
    " - Gegeben: eine Funktion $S(x)$ \n",
    " - Gesucht: ist $S$ eine kubische spline interpolierende?\n",
    " - Vorgehensweise: die Bedinungen testen"
   ]
  },
  {
   "cell_type": "code",
   "execution_count": 1,
   "metadata": {
    "collapsed": false
   },
   "outputs": [
    {
     "name": "stdout",
     "output_type": "stream",
     "text": [
      "\n",
      "3/5*x^3 + 1/5*x\n",
      "9/5*x^2 + 1/5\n",
      "18/5*x\n",
      "\n",
      "-2*x^3 + 42/5*x^2 - 41/5*x + 14/5\n",
      "-6*x^2 + 84/5*x - 41/5\n",
      "-12*x + 84/5\n",
      "\n",
      "7/5*x^3 - 54/5*x^2 + 151/5*x - 122/5\n",
      "21/5*x^2 - 108/5*x + 151/5\n",
      "42/5*x - 108/5\n"
     ]
    }
   ],
   "source": [
    "var('x')\n",
    "# input: funktionen der einzelnens splines\n",
    "S = [\n",
    "    x/5 + 3/5 * x^3,\n",
    "    14/5 - 41/5 * x + 42/5 * x^2 - 2*x^3,\n",
    "    -122/5 + 151/5*x - 54/5* x^2 + 7/5*x^3\n",
    "]\n",
    "# input: definitionsbereich der spline funktionen\n",
    "r = [\n",
    "    (0, 1),\n",
    "    (1, 2),\n",
    "    (2, 3)\n",
    "]\n",
    "\n",
    "for s in S:\n",
    "    print \"\"\n",
    "    print s\n",
    "    print s.derivative(x)\n",
    "    print s.derivative(x, 2)"
   ]
  },
  {
   "cell_type": "code",
   "execution_count": 2,
   "metadata": {
    "collapsed": false,
    "scrolled": false
   },
   "outputs": [
    {
     "name": "stdout",
     "output_type": "stream",
     "text": [
      "(4/5) == 1\n",
      "False\n",
      "\n",
      "2 == (13/5)\n",
      "False\n",
      "\n",
      "(18/5) == (24/5)\n",
      "False\n",
      "\n",
      "4 == 4\n",
      "False\n",
      "\n",
      "(7/5) == (19/5)\n",
      "False\n",
      "\n",
      "(-36/5) == (-24/5)\n",
      "False\n",
      "\n",
      "0 == 0\n",
      "False\n",
      "\n",
      "(18/5) == 0\n",
      "False\n",
      "\n"
     ]
    }
   ],
   "source": [
    "eqns = []\n",
    "for i in range(len(S) - 1):\n",
    "    eqns.extend([\n",
    "          (S[i] == S[i + 1]).subs(x=r[i][1]),\n",
    "          (S[i].derivative(x) == S[i + 1].derivative(x)).subs(x=r[i][1]),\n",
    "          (S[i].derivative(x, 2) == S[i + 1].derivative(x, 2)).subs(x=r[i][1])\n",
    "        ])\n",
    "eqns.extend([\n",
    "        (S[0].derivative(x, 2) == 0).subs(x=r[0][0]),\n",
    "        (S[-1].derivative(x, 2) == 0).subs(x=r[-1][1]),\n",
    "        ])\n",
    "\n",
    "for eqn in eqns:\n",
    "    print eqn\n",
    "    print eqn == True\n",
    "    print \"\""
   ]
  },
  {
   "cell_type": "markdown",
   "metadata": {},
   "source": [
    "Aufgabenstellung:\n",
    "\n",
    " - Gegeben: eine Funktion $S(x)$ mit reellen Konstanten $a,b,c,d \\ldots$\n",
    " - Gesucht: Werte der Konstanten sodass $S(x)$ eine gültige kubische Spline-Interpolierende ist\n",
    " - Vorgehensweise: Basierend auf den Bedingungen ein Gleichunssystem aufstellen und lösen"
   ]
  },
  {
   "cell_type": "code",
   "execution_count": 3,
   "metadata": {
    "collapsed": false
   },
   "outputs": [
    {
     "name": "stdout",
     "output_type": "stream",
     "text": [
      "S[0], first, second derivative:\n",
      "d*(x + 1)^3 + c*(x + 1)^2 + b*(x + 1) + a\n",
      "3*d*(x + 1)^2 + 2*c*(x + 1) + b\n",
      "6*d*(x + 1) + 2*c\n",
      "\n",
      "S[1], first, second derivative:\n",
      "(x + 1)^3 + e*x^2 + 1\n",
      "3*(x + 1)^2 + 2*e*x\n",
      "2*e + 6*x + 6\n",
      "\n"
     ]
    }
   ],
   "source": [
    "var('x')\n",
    "# input:\n",
    "constants = var('a,b,c,d,e')\n",
    "S = [\n",
    "    a + b*(x + 1) + c*(x+1)^2 + d*(x+1)^3,\n",
    "    (x+1)^3 + e*x^2 + 1\n",
    "]\n",
    "r = [\n",
    "    (-2, -1),\n",
    "    (-1, 0)\n",
    "]\n",
    "for i, s in enumerate(S):\n",
    "    print \"S[{}], first, second derivative:\".format(i)\n",
    "    for j in range(3):\n",
    "        print s.derivative(x, j)\n",
    "    print \"\""
   ]
  },
  {
   "cell_type": "code",
   "execution_count": 4,
   "metadata": {
    "collapsed": false
   },
   "outputs": [
    {
     "name": "stdout",
     "output_type": "stream",
     "text": [
      "a == e + 1\n",
      "b == -2*e\n",
      "2*c == 2*e\n",
      "2*c - 6*d == 0\n",
      "2*e + 6 == 0\n"
     ]
    }
   ],
   "source": [
    "eqns = []\n",
    "for i in range(len(S) - 1):\n",
    "    eqns.extend([\n",
    "          (S[i] == S[i + 1]).subs(x=r[i][1]),\n",
    "          (S[i].derivative(x) == S[i + 1].derivative(x)).subs(x=r[i][1]),\n",
    "          (S[i].derivative(x, 2) == S[i + 1].derivative(x, 2)).subs(x=r[i][1])\n",
    "        ])\n",
    "eqns.extend([\n",
    "        (S[0].derivative(x, 2) == 0).subs(x=r[0][0]),\n",
    "        (S[-1].derivative(x, 2) == 0).subs(x=r[-1][1]),\n",
    "        ])\n",
    "\n",
    "for eqn in eqns:\n",
    "    print eqn.simplify()"
   ]
  },
  {
   "cell_type": "code",
   "execution_count": 5,
   "metadata": {
    "collapsed": false,
    "scrolled": true
   },
   "outputs": [
    {
     "name": "stdout",
     "output_type": "stream",
     "text": [
      "[a == -2, b == 6, c == -3, d == -1, e == -3]\n"
     ]
    }
   ],
   "source": [
    "for i in solve(eqns, *constants):\n",
    "    print i"
   ]
  }
 ],
 "metadata": {
  "kernelspec": {
   "display_name": "SageMath 7.0",
   "language": "",
   "name": "sagemath"
  },
  "language_info": {
   "codemirror_mode": {
    "name": "ipython",
    "version": 2
   },
   "file_extension": ".py",
   "mimetype": "text/x-python",
   "name": "python",
   "nbconvert_exporter": "python",
   "pygments_lexer": "ipython2",
   "version": "2.7.11"
  }
 },
 "nbformat": 4,
 "nbformat_minor": 0
}
