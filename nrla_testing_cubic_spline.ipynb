{
 "cells": [
  {
   "cell_type": "markdown",
   "metadata": {},
   "source": [
    "# Bedingungen fuer Kubische Spline-Interpolierende\n",
    "\n",
    "Angenommen $S(x)$ ist eine kubische Spline-Interpolierende für $n$ Punkte, dann muss gelten:\n",
    "\n",
    "1. $S_j(x_{j+1}) = S_{j+1}(x_{j+1})$\n",
    "2. $S'_j(x_{j+1}) = S'_{j+1}(x_{j+1})$\n",
    "3. $S''_j(x_{j+1}) = S''_{j+1}(x_{j+1})$\n",
    "4. $S''_0(x_0) = S''_n(x_n)$ = 0"
   ]
  },
  {
   "cell_type": "markdown",
   "metadata": {},
   "source": [
    "Aufgabenstellung: Testen ob eine Funktion eine kubische Spline-Interpolierende ist.\n",
    "\n",
    " - Gegeben: eine Funktion $S(x)$ \n",
    " - Gesucht: ist $S$ eine kubische spline interpolierende?\n",
    " - Vorgehensweise: die Bedinungen testen"
   ]
  },
  {
   "cell_type": "code",
   "execution_count": 11,
   "metadata": {
    "collapsed": false
   },
   "outputs": [
    {
     "name": "stdout",
     "output_type": "stream",
     "text": [
      "spline 0\n"
     ]
    },
    {
     "data": {
      "text/html": [
       "<html><script type=\"math/tex; mode=display\">\\newcommand{\\Bold}[1]{\\mathbf{#1}}\\frac{3}{5} \\, x^{3} + \\frac{1}{5} \\, x</script></html>"
      ],
      "text/plain": [
       "3/5*x^3 + 1/5*x"
      ]
     },
     "metadata": {},
     "output_type": "display_data"
    },
    {
     "data": {
      "text/html": [
       "<html><script type=\"math/tex; mode=display\">\\newcommand{\\Bold}[1]{\\mathbf{#1}}\\frac{9}{5} \\, x^{2} + \\frac{1}{5}</script></html>"
      ],
      "text/plain": [
       "9/5*x^2 + 1/5"
      ]
     },
     "metadata": {},
     "output_type": "display_data"
    },
    {
     "data": {
      "text/html": [
       "<html><script type=\"math/tex; mode=display\">\\newcommand{\\Bold}[1]{\\mathbf{#1}}\\frac{18}{5} \\, x</script></html>"
      ],
      "text/plain": [
       "18/5*x"
      ]
     },
     "metadata": {},
     "output_type": "display_data"
    },
    {
     "name": "stdout",
     "output_type": "stream",
     "text": [
      "\n",
      "spline 1\n"
     ]
    },
    {
     "data": {
      "text/html": [
       "<html><script type=\"math/tex; mode=display\">\\newcommand{\\Bold}[1]{\\mathbf{#1}}-2 \\, x^{3} + \\frac{42}{5} \\, x^{2} - \\frac{41}{5} \\, x + \\frac{14}{5}</script></html>"
      ],
      "text/plain": [
       "-2*x^3 + 42/5*x^2 - 41/5*x + 14/5"
      ]
     },
     "metadata": {},
     "output_type": "display_data"
    },
    {
     "data": {
      "text/html": [
       "<html><script type=\"math/tex; mode=display\">\\newcommand{\\Bold}[1]{\\mathbf{#1}}-6 \\, x^{2} + \\frac{84}{5} \\, x - \\frac{41}{5}</script></html>"
      ],
      "text/plain": [
       "-6*x^2 + 84/5*x - 41/5"
      ]
     },
     "metadata": {},
     "output_type": "display_data"
    },
    {
     "data": {
      "text/html": [
       "<html><script type=\"math/tex; mode=display\">\\newcommand{\\Bold}[1]{\\mathbf{#1}}-12 \\, x + \\frac{84}{5}</script></html>"
      ],
      "text/plain": [
       "-12*x + 84/5"
      ]
     },
     "metadata": {},
     "output_type": "display_data"
    },
    {
     "name": "stdout",
     "output_type": "stream",
     "text": [
      "\n",
      "spline 2\n"
     ]
    },
    {
     "data": {
      "text/html": [
       "<html><script type=\"math/tex; mode=display\">\\newcommand{\\Bold}[1]{\\mathbf{#1}}\\frac{7}{5} \\, x^{3} - \\frac{54}{5} \\, x^{2} + \\frac{151}{5} \\, x - \\frac{122}{5}</script></html>"
      ],
      "text/plain": [
       "7/5*x^3 - 54/5*x^2 + 151/5*x - 122/5"
      ]
     },
     "metadata": {},
     "output_type": "display_data"
    },
    {
     "data": {
      "text/html": [
       "<html><script type=\"math/tex; mode=display\">\\newcommand{\\Bold}[1]{\\mathbf{#1}}\\frac{21}{5} \\, x^{2} - \\frac{108}{5} \\, x + \\frac{151}{5}</script></html>"
      ],
      "text/plain": [
       "21/5*x^2 - 108/5*x + 151/5"
      ]
     },
     "metadata": {},
     "output_type": "display_data"
    },
    {
     "data": {
      "text/html": [
       "<html><script type=\"math/tex; mode=display\">\\newcommand{\\Bold}[1]{\\mathbf{#1}}\\frac{42}{5} \\, x - \\frac{108}{5}</script></html>"
      ],
      "text/plain": [
       "42/5*x - 108/5"
      ]
     },
     "metadata": {},
     "output_type": "display_data"
    },
    {
     "name": "stdout",
     "output_type": "stream",
     "text": [
      "\n"
     ]
    }
   ],
   "source": [
    "var('x')\n",
    "# input: funktionen der einzelnens splines\n",
    "S = [\n",
    "    x/5 + 3/5 * x^3,\n",
    "    14/5 - 41/5 * x + 42/5 * x^2 - 2*x^3,\n",
    "    -122/5 + 151/5*x - 54/5* x^2 + 7/5*x^3\n",
    "]\n",
    "# input: definitionsbereich der spline funktionen\n",
    "r = [\n",
    "    (0, 1),\n",
    "    (1, 2),\n",
    "    (2, 3)\n",
    "]\n",
    "\n",
    "for i, s in enumerate(S):\n",
    "    print \"spline\", i\n",
    "    show(s)\n",
    "    show(s.derivative(x))\n",
    "    show(s.derivative(x, 2))\n",
    "    print \"\""
   ]
  },
  {
   "cell_type": "code",
   "execution_count": 12,
   "metadata": {
    "collapsed": false,
    "scrolled": false
   },
   "outputs": [
    {
     "data": {
      "text/html": [
       "<html><script type=\"math/tex; mode=display\">\\newcommand{\\Bold}[1]{\\mathbf{#1}}\\left(\\frac{4}{5}\\right) = 1</script></html>"
      ],
      "text/plain": [
       "(4/5) == 1"
      ]
     },
     "metadata": {},
     "output_type": "display_data"
    },
    {
     "name": "stdout",
     "output_type": "stream",
     "text": [
      "holds?  False\n",
      "\n"
     ]
    },
    {
     "data": {
      "text/html": [
       "<html><script type=\"math/tex; mode=display\">\\newcommand{\\Bold}[1]{\\mathbf{#1}}2 = \\left(\\frac{13}{5}\\right)</script></html>"
      ],
      "text/plain": [
       "2 == (13/5)"
      ]
     },
     "metadata": {},
     "output_type": "display_data"
    },
    {
     "name": "stdout",
     "output_type": "stream",
     "text": [
      "holds?  False\n",
      "\n"
     ]
    },
    {
     "data": {
      "text/html": [
       "<html><script type=\"math/tex; mode=display\">\\newcommand{\\Bold}[1]{\\mathbf{#1}}\\left(\\frac{18}{5}\\right) = \\left(\\frac{24}{5}\\right)</script></html>"
      ],
      "text/plain": [
       "(18/5) == (24/5)"
      ]
     },
     "metadata": {},
     "output_type": "display_data"
    },
    {
     "name": "stdout",
     "output_type": "stream",
     "text": [
      "holds?  False\n",
      "\n"
     ]
    },
    {
     "data": {
      "text/html": [
       "<html><script type=\"math/tex; mode=display\">\\newcommand{\\Bold}[1]{\\mathbf{#1}}4 = 4</script></html>"
      ],
      "text/plain": [
       "4 == 4"
      ]
     },
     "metadata": {},
     "output_type": "display_data"
    },
    {
     "name": "stdout",
     "output_type": "stream",
     "text": [
      "holds?  False\n",
      "\n"
     ]
    },
    {
     "data": {
      "text/html": [
       "<html><script type=\"math/tex; mode=display\">\\newcommand{\\Bold}[1]{\\mathbf{#1}}\\left(\\frac{7}{5}\\right) = \\left(\\frac{19}{5}\\right)</script></html>"
      ],
      "text/plain": [
       "(7/5) == (19/5)"
      ]
     },
     "metadata": {},
     "output_type": "display_data"
    },
    {
     "name": "stdout",
     "output_type": "stream",
     "text": [
      "holds?  False\n",
      "\n"
     ]
    },
    {
     "data": {
      "text/html": [
       "<html><script type=\"math/tex; mode=display\">\\newcommand{\\Bold}[1]{\\mathbf{#1}}\\left(-\\frac{36}{5}\\right) = \\left(-\\frac{24}{5}\\right)</script></html>"
      ],
      "text/plain": [
       "(-36/5) == (-24/5)"
      ]
     },
     "metadata": {},
     "output_type": "display_data"
    },
    {
     "name": "stdout",
     "output_type": "stream",
     "text": [
      "holds?  False\n",
      "\n"
     ]
    },
    {
     "data": {
      "text/html": [
       "<html><script type=\"math/tex; mode=display\">\\newcommand{\\Bold}[1]{\\mathbf{#1}}0 = 0</script></html>"
      ],
      "text/plain": [
       "0 == 0"
      ]
     },
     "metadata": {},
     "output_type": "display_data"
    },
    {
     "name": "stdout",
     "output_type": "stream",
     "text": [
      "holds?  False\n",
      "\n"
     ]
    },
    {
     "data": {
      "text/html": [
       "<html><script type=\"math/tex; mode=display\">\\newcommand{\\Bold}[1]{\\mathbf{#1}}\\left(\\frac{18}{5}\\right) = 0</script></html>"
      ],
      "text/plain": [
       "(18/5) == 0"
      ]
     },
     "metadata": {},
     "output_type": "display_data"
    },
    {
     "name": "stdout",
     "output_type": "stream",
     "text": [
      "holds?  False\n",
      "\n"
     ]
    }
   ],
   "source": [
    "eqns = []\n",
    "for i in range(len(S) - 1):\n",
    "    eqns.extend([\n",
    "          (S[i] == S[i + 1]).subs(x=r[i][1]),\n",
    "          (S[i].derivative(x) == S[i + 1].derivative(x)).subs(x=r[i][1]),\n",
    "          (S[i].derivative(x, 2) == S[i + 1].derivative(x, 2)).subs(x=r[i][1])\n",
    "        ])\n",
    "eqns.extend([\n",
    "        (S[0].derivative(x, 2) == 0).subs(x=r[0][0]),\n",
    "        (S[-1].derivative(x, 2) == 0).subs(x=r[-1][1]),\n",
    "        ])\n",
    "\n",
    "for eqn in eqns:\n",
    "    show(eqn)\n",
    "    print \"holds? \", eqn == True\n",
    "    print \"\""
   ]
  },
  {
   "cell_type": "markdown",
   "metadata": {},
   "source": [
    "Aufgabenstellung:\n",
    "\n",
    " - Gegeben: eine Funktion $S(x)$ mit reellen Konstanten $a,b,c,d \\ldots$\n",
    " - Gesucht: Werte der Konstanten sodass $S(x)$ eine gültige kubische Spline-Interpolierende ist\n",
    " - Vorgehensweise: Basierend auf den Bedingungen ein Gleichunssystem aufstellen und lösen"
   ]
  },
  {
   "cell_type": "code",
   "execution_count": 6,
   "metadata": {
    "collapsed": false
   },
   "outputs": [
    {
     "name": "stdout",
     "output_type": "stream",
     "text": [
      "S[0], first, second derivative:\n"
     ]
    },
    {
     "data": {
      "text/html": [
       "<html><script type=\"math/tex; mode=display\">\\newcommand{\\Bold}[1]{\\mathbf{#1}}d {\\left(x - 1\\right)}^{3} + c {\\left(x - 1\\right)}^{2} + b {\\left(x - 1\\right)} + a</script></html>"
      ],
      "text/plain": [
       "d*(x - 1)^3 + c*(x - 1)^2 + b*(x - 1) + a"
      ]
     },
     "metadata": {},
     "output_type": "display_data"
    },
    {
     "data": {
      "text/html": [
       "<html><script type=\"math/tex; mode=display\">\\newcommand{\\Bold}[1]{\\mathbf{#1}}3 \\, d {\\left(x - 1\\right)}^{2} + 2 \\, c {\\left(x - 1\\right)} + b</script></html>"
      ],
      "text/plain": [
       "3*d*(x - 1)^2 + 2*c*(x - 1) + b"
      ]
     },
     "metadata": {},
     "output_type": "display_data"
    },
    {
     "data": {
      "text/html": [
       "<html><script type=\"math/tex; mode=display\">\\newcommand{\\Bold}[1]{\\mathbf{#1}}6 \\, d {\\left(x - 1\\right)} + 2 \\, c</script></html>"
      ],
      "text/plain": [
       "6*d*(x - 1) + 2*c"
      ]
     },
     "metadata": {},
     "output_type": "display_data"
    },
    {
     "name": "stdout",
     "output_type": "stream",
     "text": [
      "\n",
      "S[1], first, second derivative:\n"
     ]
    },
    {
     "data": {
      "text/html": [
       "<html><script type=\"math/tex; mode=display\">\\newcommand{\\Bold}[1]{\\mathbf{#1}}{\\left(x - 1\\right)}^{3} + e x^{2} - 1</script></html>"
      ],
      "text/plain": [
       "(x - 1)^3 + e*x^2 - 1"
      ]
     },
     "metadata": {},
     "output_type": "display_data"
    },
    {
     "data": {
      "text/html": [
       "<html><script type=\"math/tex; mode=display\">\\newcommand{\\Bold}[1]{\\mathbf{#1}}3 \\, {\\left(x - 1\\right)}^{2} + 2 \\, e x</script></html>"
      ],
      "text/plain": [
       "3*(x - 1)^2 + 2*e*x"
      ]
     },
     "metadata": {},
     "output_type": "display_data"
    },
    {
     "data": {
      "text/html": [
       "<html><script type=\"math/tex; mode=display\">\\newcommand{\\Bold}[1]{\\mathbf{#1}}2 \\, e + 6 \\, x - 6</script></html>"
      ],
      "text/plain": [
       "2*e + 6*x - 6"
      ]
     },
     "metadata": {},
     "output_type": "display_data"
    },
    {
     "name": "stdout",
     "output_type": "stream",
     "text": [
      "\n"
     ]
    }
   ],
   "source": [
    "var('x')\n",
    "# input:\n",
    "constants = var('a,b,c,d,e')\n",
    "S = [\n",
    "    a + b*(x - 1) + c*(x - 1)^2 + d * (x - 1)^3,\n",
    "    (x - 1)^3 + e*x^2 - 1\n",
    "]\n",
    "r = [\n",
    "    (0, 1),\n",
    "    (1, 2)\n",
    "]\n",
    "for i, s in enumerate(S):\n",
    "    print \"S[{}], first, second derivative:\".format(i)\n",
    "    for j in range(3):\n",
    "        show(s.derivative(x, j))\n",
    "    print \"\""
   ]
  },
  {
   "cell_type": "code",
   "execution_count": 7,
   "metadata": {
    "collapsed": false
   },
   "outputs": [
    {
     "data": {
      "text/html": [
       "<html><script type=\"math/tex; mode=display\">\\newcommand{\\Bold}[1]{\\mathbf{#1}}a = e - 1</script></html>"
      ],
      "text/plain": [
       "a == e - 1"
      ]
     },
     "metadata": {},
     "output_type": "display_data"
    },
    {
     "data": {
      "text/html": [
       "<html><script type=\"math/tex; mode=display\">\\newcommand{\\Bold}[1]{\\mathbf{#1}}b = 2 \\, e</script></html>"
      ],
      "text/plain": [
       "b == 2*e"
      ]
     },
     "metadata": {},
     "output_type": "display_data"
    },
    {
     "data": {
      "text/html": [
       "<html><script type=\"math/tex; mode=display\">\\newcommand{\\Bold}[1]{\\mathbf{#1}}2 \\, c = 2 \\, e</script></html>"
      ],
      "text/plain": [
       "2*c == 2*e"
      ]
     },
     "metadata": {},
     "output_type": "display_data"
    },
    {
     "data": {
      "text/html": [
       "<html><script type=\"math/tex; mode=display\">\\newcommand{\\Bold}[1]{\\mathbf{#1}}2 \\, c - 6 \\, d = 0</script></html>"
      ],
      "text/plain": [
       "2*c - 6*d == 0"
      ]
     },
     "metadata": {},
     "output_type": "display_data"
    },
    {
     "data": {
      "text/html": [
       "<html><script type=\"math/tex; mode=display\">\\newcommand{\\Bold}[1]{\\mathbf{#1}}2 \\, e + 6 = 0</script></html>"
      ],
      "text/plain": [
       "2*e + 6 == 0"
      ]
     },
     "metadata": {},
     "output_type": "display_data"
    }
   ],
   "source": [
    "eqns = []\n",
    "for i in range(len(S) - 1):\n",
    "    eqns.extend([\n",
    "          (S[i] == S[i + 1]).subs(x=r[i][1]),\n",
    "          (S[i].derivative(x) == S[i + 1].derivative(x)).subs(x=r[i][1]),\n",
    "          (S[i].derivative(x, 2) == S[i + 1].derivative(x, 2)).subs(x=r[i][1])\n",
    "        ])\n",
    "eqns.extend([\n",
    "        (S[0].derivative(x, 2) == 0).subs(x=r[0][0]),\n",
    "        (S[-1].derivative(x, 2) == 0).subs(x=r[-1][1]),\n",
    "        ])\n",
    "\n",
    "for eqn in eqns:\n",
    "    show(eqn.simplify())"
   ]
  },
  {
   "cell_type": "code",
   "execution_count": 8,
   "metadata": {
    "collapsed": false,
    "scrolled": true
   },
   "outputs": [
    {
     "data": {
      "text/html": [
       "<html><script type=\"math/tex; mode=display\">\\newcommand{\\Bold}[1]{\\mathbf{#1}}\\left[a = \\left(-4\\right), b = \\left(-6\\right), c = \\left(-3\\right), d = \\left(-1\\right), e = \\left(-3\\right)\\right]</script></html>"
      ],
      "text/plain": [
       "[a == -4, b == -6, c == -3, d == -1, e == -3]"
      ]
     },
     "metadata": {},
     "output_type": "display_data"
    }
   ],
   "source": [
    "for i in solve(eqns, *constants):\n",
    "    show(i)"
   ]
  },
  {
   "cell_type": "code",
   "execution_count": null,
   "metadata": {
    "collapsed": true
   },
   "outputs": [],
   "source": []
  }
 ],
 "metadata": {
  "kernelspec": {
   "display_name": "SageMath 7.0",
   "language": "",
   "name": "sagemath"
  },
  "language_info": {
   "codemirror_mode": {
    "name": "ipython",
    "version": 2
   },
   "file_extension": ".py",
   "mimetype": "text/x-python",
   "name": "python",
   "nbconvert_exporter": "python",
   "pygments_lexer": "ipython2",
   "version": "2.7.11"
  }
 },
 "nbformat": 4,
 "nbformat_minor": 0
}
