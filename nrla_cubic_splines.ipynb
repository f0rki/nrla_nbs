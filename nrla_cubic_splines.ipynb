{
 "cells": [
  {
   "cell_type": "markdown",
   "metadata": {},
   "source": [
    "# Cubic Spline Interpolation\n",
    "\n",
    "Aufgabenstellung: Testen ob eine Funktion eine kubische Spline-Interpolierende ist.\n",
    "\n",
    " - Gegeben: $n+1$ Punkte.\n",
    " - Gesucht: kubische Spline-Interpolierende $S(x)$ für die gegebenen Punkte"
   ]
  },
  {
   "cell_type": "code",
   "execution_count": 1,
   "metadata": {
    "collapsed": true
   },
   "outputs": [],
   "source": [
    "# input: given points\n",
    "points = [\n",
    "    (-1, 4),\n",
    "    (1, 3),\n",
    "    (3, -32),\n",
    "]\n",
    "#"
   ]
  },
  {
   "cell_type": "code",
   "execution_count": 2,
   "metadata": {
    "collapsed": false
   },
   "outputs": [],
   "source": [
    "points = [vector(p) for p in points]\n",
    "n = len(points) - 1"
   ]
  },
  {
   "cell_type": "markdown",
   "metadata": {},
   "source": [
    "Berechnen $a_0$ bis $a_{n+1}$\n",
    "\n",
    "$$a_i = y_i$$\n",
    "\n"
   ]
  },
  {
   "cell_type": "code",
   "execution_count": 3,
   "metadata": {
    "collapsed": false,
    "scrolled": true
   },
   "outputs": [
    {
     "data": {
      "text/html": [
       "<html><script type=\"math/tex; mode=display\">\\newcommand{\\Bold}[1]{\\mathbf{#1}}\\left[4, 3, -32\\right]</script></html>"
      ],
      "text/plain": [
       "[4, 3, -32]"
      ]
     },
     "metadata": {},
     "output_type": "display_data"
    }
   ],
   "source": [
    "a = [p[1] for p in points]\n",
    "show(a)"
   ]
  },
  {
   "cell_type": "markdown",
   "metadata": {},
   "source": [
    "Berechnen $h_0$ bis $h_{n}$\n",
    "\n",
    "$$h_i = x_{i+1} - x_i$$"
   ]
  },
  {
   "cell_type": "code",
   "execution_count": 4,
   "metadata": {
    "collapsed": false
   },
   "outputs": [
    {
     "data": {
      "text/html": [
       "<html><script type=\"math/tex; mode=display\">\\newcommand{\\Bold}[1]{\\mathbf{#1}}\\left[2, 2\\right]</script></html>"
      ],
      "text/plain": [
       "[2, 2]"
      ]
     },
     "metadata": {},
     "output_type": "display_data"
    }
   ],
   "source": [
    "h = [points[i+1][0] - points[i][0] for i in range(n)]\n",
    "show(h)"
   ]
  },
  {
   "cell_type": "markdown",
   "metadata": {},
   "source": [
    "Anlegen der Matrix $A \\in M(n \\times n)$"
   ]
  },
  {
   "cell_type": "code",
   "execution_count": 5,
   "metadata": {
    "collapsed": false
   },
   "outputs": [
    {
     "data": {
      "text/html": [
       "<html><script type=\"math/tex; mode=display\">\\newcommand{\\Bold}[1]{\\mathbf{#1}}\\left(\\begin{array}{rrr}\n",
       "1 & 0 & 0 \\\\\n",
       "2 & 8 & 2 \\\\\n",
       "0 & 0 & 1\n",
       "\\end{array}\\right)</script></html>"
      ],
      "text/plain": [
       "[1 0 0]\n",
       "[2 8 2]\n",
       "[0 0 1]"
      ]
     },
     "metadata": {},
     "output_type": "display_data"
    }
   ],
   "source": [
    "A = matrix([[1] + [0] * (n) ] +\\\n",
    "[[0]*i + [h[i], 2*(h[i] + h[i+1]), h[i+1]] + [0]*(n - 2 - i) for i in range(n-1)] \\\n",
    "+ [ [0] * (n) + [1] ])\n",
    "show(A)"
   ]
  },
  {
   "cell_type": "markdown",
   "metadata": {},
   "source": [
    "und des Vektors $\\bar{b}$"
   ]
  },
  {
   "cell_type": "code",
   "execution_count": 6,
   "metadata": {
    "collapsed": false
   },
   "outputs": [
    {
     "data": {
      "text/html": [
       "<html><script type=\"math/tex; mode=display\">\\newcommand{\\Bold}[1]{\\mathbf{#1}}\\left(0,\\,-51,\\,0\\right)</script></html>"
      ],
      "text/plain": [
       "(0, -51, 0)"
      ]
     },
     "metadata": {},
     "output_type": "display_data"
    }
   ],
   "source": [
    "bv = vector([0] + [(3/h[i+1]*(a[i+2] - a[i+1]))- (3/h[i]*(a[i+1] - a[i])) for i in range(n-1)] + [0])\n",
    "show(bv)"
   ]
  },
  {
   "cell_type": "code",
   "execution_count": 7,
   "metadata": {
    "collapsed": false
   },
   "outputs": [
    {
     "data": {
      "text/html": [
       "<html><script type=\"math/tex; mode=display\">\\newcommand{\\Bold}[1]{\\mathbf{#1}}\\left(\\begin{array}{rrr}\n",
       "1 & 0 & 0 \\\\\n",
       "-\\frac{1}{4} & \\frac{1}{8} & -\\frac{1}{4} \\\\\n",
       "0 & 0 & 1\n",
       "\\end{array}\\right)</script></html>"
      ],
      "text/plain": [
       "[   1    0    0]\n",
       "[-1/4  1/8 -1/4]\n",
       "[   0    0    1]"
      ]
     },
     "metadata": {},
     "output_type": "display_data"
    }
   ],
   "source": [
    "show(A^-1)"
   ]
  },
  {
   "cell_type": "markdown",
   "metadata": {},
   "source": [
    "Lösung von $A c = \\bar{b}$ ergibt $c = \\{c_0, c_1, \\ldots, c_n\\}$"
   ]
  },
  {
   "cell_type": "code",
   "execution_count": 8,
   "metadata": {
    "collapsed": false
   },
   "outputs": [
    {
     "data": {
      "text/html": [
       "<html><script type=\"math/tex; mode=display\">\\newcommand{\\Bold}[1]{\\mathbf{#1}}\\left(0,\\,-\\frac{51}{8},\\,0\\right)</script></html>"
      ],
      "text/plain": [
       "(0, -51/8, 0)"
      ]
     },
     "metadata": {},
     "output_type": "display_data"
    }
   ],
   "source": [
    "c = (A^-1 * bv)\n",
    "show(c)"
   ]
  },
  {
   "cell_type": "markdown",
   "metadata": {},
   "source": [
    "$$b_i = \\frac{1}{h_i}(a_{i+1} - a_i) - \\frac{h_i}{3}(2 c_i + c_{i+1})$$"
   ]
  },
  {
   "cell_type": "code",
   "execution_count": 9,
   "metadata": {
    "collapsed": false
   },
   "outputs": [
    {
     "data": {
      "text/html": [
       "<html><script type=\"math/tex; mode=display\">\\newcommand{\\Bold}[1]{\\mathbf{#1}}\\left[\\frac{15}{4}, -9\\right]</script></html>"
      ],
      "text/plain": [
       "[15/4, -9]"
      ]
     },
     "metadata": {},
     "output_type": "display_data"
    }
   ],
   "source": [
    "b = [1/h[i] * (a[i+1]-a[i]) - h[i]/3*(2*c[i]+c[i+1]) for i in range(n)]\n",
    "show(b)"
   ]
  },
  {
   "cell_type": "markdown",
   "metadata": {},
   "source": [
    "$$d_i = \\frac{c_{i+1} - c_i}{3 h_i}$$"
   ]
  },
  {
   "cell_type": "code",
   "execution_count": 10,
   "metadata": {
    "collapsed": false
   },
   "outputs": [
    {
     "data": {
      "text/html": [
       "<html><script type=\"math/tex; mode=display\">\\newcommand{\\Bold}[1]{\\mathbf{#1}}\\left[-\\frac{17}{16}, \\frac{17}{16}\\right]</script></html>"
      ],
      "text/plain": [
       "[-17/16, 17/16]"
      ]
     },
     "metadata": {},
     "output_type": "display_data"
    }
   ],
   "source": [
    "d = [(c[i+1]-c[i])/(3*h[i]) for i in range(n)]\n",
    "show(d)"
   ]
  },
  {
   "cell_type": "code",
   "execution_count": 11,
   "metadata": {
    "collapsed": false
   },
   "outputs": [
    {
     "data": {
      "text/html": [
       "<html><script type=\"math/tex; mode=display\">\\newcommand{\\Bold}[1]{\\mathbf{#1}}a =  \\left[4, 3, -32\\right]</script></html>"
      ],
      "text/plain": [
       "a =  [4, 3, -32]"
      ]
     },
     "metadata": {},
     "output_type": "display_data"
    },
    {
     "data": {
      "text/html": [
       "<html><script type=\"math/tex; mode=display\">\\newcommand{\\Bold}[1]{\\mathbf{#1}}b =  \\left[\\frac{15}{4}, -9\\right]</script></html>"
      ],
      "text/plain": [
       "b =  [15/4, -9]"
      ]
     },
     "metadata": {},
     "output_type": "display_data"
    },
    {
     "data": {
      "text/html": [
       "<html><script type=\"math/tex; mode=display\">\\newcommand{\\Bold}[1]{\\mathbf{#1}}c =  \\left(0,\\,-\\frac{51}{8},\\,0\\right)</script></html>"
      ],
      "text/plain": [
       "c =  (0, -51/8, 0)"
      ]
     },
     "metadata": {},
     "output_type": "display_data"
    },
    {
     "data": {
      "text/html": [
       "<html><script type=\"math/tex; mode=display\">\\newcommand{\\Bold}[1]{\\mathbf{#1}}d =  \\left[-\\frac{17}{16}, \\frac{17}{16}\\right]</script></html>"
      ],
      "text/plain": [
       "d =  [-17/16, 17/16]"
      ]
     },
     "metadata": {},
     "output_type": "display_data"
    },
    {
     "data": {
      "text/html": [
       "<html><script type=\"math/tex; mode=display\">\\newcommand{\\Bold}[1]{\\mathbf{#1}}h =  \\left[2, 2\\right]</script></html>"
      ],
      "text/plain": [
       "h =  [2, 2]"
      ]
     },
     "metadata": {},
     "output_type": "display_data"
    }
   ],
   "source": [
    "show(LatexExpr('a = '), a)\n",
    "show(LatexExpr('b = '), b)\n",
    "show(LatexExpr('c = '), c)\n",
    "show(LatexExpr('d = '), d)\n",
    "show(LatexExpr('h = '), h)"
   ]
  },
  {
   "cell_type": "code",
   "execution_count": 12,
   "metadata": {
    "collapsed": false
   },
   "outputs": [
    {
     "data": {
      "text/html": [
       "<html><script type=\"math/tex; mode=display\">\\newcommand{\\Bold}[1]{\\mathbf{#1}}S_0 = -\\frac{17}{16} \\, x^{3} - \\frac{51}{16} \\, x^{2} + \\frac{9}{16} \\, x + \\frac{107}{16}</script></html>"
      ],
      "text/plain": [
       "S_0 = -17/16*x^3 - 51/16*x^2 + 9/16*x + 107/16"
      ]
     },
     "metadata": {},
     "output_type": "display_data"
    },
    {
     "data": {
      "text/html": [
       "<html><script type=\"math/tex; mode=display\">\\newcommand{\\Bold}[1]{\\mathbf{#1}}S_1 = \\frac{17}{16} \\, x^{3} - \\frac{153}{16} \\, x^{2} + \\frac{111}{16} \\, x + \\frac{73}{16}</script></html>"
      ],
      "text/plain": [
       "S_1 = 17/16*x^3 - 153/16*x^2 + 111/16*x + 73/16"
      ]
     },
     "metadata": {},
     "output_type": "display_data"
    }
   ],
   "source": [
    "# all the splines\n",
    "var('x')\n",
    "S = [a[i] + b[i]*(x-points[i][0]) + c[i]*(x-points[i][0])^2 + d[i]*(x-points[i][0])^3 \n",
    "     for i in range(n)]\n",
    "for i, s in enumerate(S):\n",
    "    show(LatexExpr(\"S_{} =\".format(i)), s.simplify_full())"
   ]
  },
  {
   "cell_type": "code",
   "execution_count": 13,
   "metadata": {
    "collapsed": false
   },
   "outputs": [
    {
     "data": {
      "image/png": "[encoded data removed]",
      "text/plain": [
       "Graphics object consisting of 3 graphics primitives"
      ]
     },
     "execution_count": 13,
     "metadata": {},
     "output_type": "execute_result"
    }
   ],
   "source": [
    "# plot the points and the splines for their interval\n",
    "scatter_plot(points) + \\\n",
    "sum(plot(s, xmin=points[i][0], xmax=points[i+1][0]) for i, s in enumerate(S))"
   ]
  },
  {
   "cell_type": "code",
   "execution_count": 14,
   "metadata": {
    "collapsed": false
   },
   "outputs": [],
   "source": [
    "# Sanity checking\n",
    "for i in range(len(S)-1):\n",
    "    if S[i].subs(x=points[i+1][0]) != S[i+1].subs(x=points[i+1][0]):\n",
    "        print \"Spline {} and {} don't match at x = {}\".format(i, i+1, points[i+1][0])\n",
    "    if S[i].derivative().subs(x=points[i+1][0]) != S[i+1].derivative().subs(x=points[i+1][0]):\n",
    "        print \"Derivative of spline {} and {} don't match at x = {}\".format(i, i+1, points[i+1][0])\n",
    "    if S[i].derivative().derivative().subs(x=points[i+1][0]) != S[i+1].derivative().derivative().subs(x=points[i+1][0]):\n",
    "        print \"Second derivative of spline {} and {} don't match at x = {}\".format(i, i+1, points[i+1][0])\n",
    "\n",
    "if S[0].derivative().derivative().subs(x=points[0][0]) != 0:\n",
    "    print \"Second derivative of first spline at first point must be 0\"\n",
    "    \n",
    "if S[-1].derivative().derivative().subs(x=points[-1][0]) != 0:\n",
    "    print \"Second derivative of last spline at last point must be 0\""
   ]
  }
 ],
 "metadata": {
  "kernelspec": {
   "display_name": "SageMath 7.0",
   "language": "",
   "name": "sagemath"
  },
  "language_info": {
   "codemirror_mode": {
    "name": "ipython",
    "version": 2
   },
   "file_extension": ".py",
   "mimetype": "text/x-python",
   "name": "python",
   "nbconvert_exporter": "python",
   "pygments_lexer": "ipython2",
   "version": "2.7.11"
  }
 },
 "nbformat": 4,
 "nbformat_minor": 0
}
