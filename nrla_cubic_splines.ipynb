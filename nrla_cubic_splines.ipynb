{
 "cells": [
  {
   "cell_type": "markdown",
   "metadata": {},
   "source": [
    "# Cubic Spline Interpolation\n",
    "\n",
    "Gegeben: $n+1$ Punkte.\n",
    "\n",
    "Gesucht: Interpolation mittels kubischen Splines."
   ]
  },
  {
   "cell_type": "code",
   "execution_count": 1,
   "metadata": {
    "collapsed": true
   },
   "outputs": [],
   "source": [
    "# input given points\n",
    "points = [\n",
    "(1,0), \n",
    "(4,2), \n",
    "(7,-5)\n",
    "]"
   ]
  },
  {
   "cell_type": "code",
   "execution_count": 2,
   "metadata": {
    "collapsed": false
   },
   "outputs": [],
   "source": [
    "points = [vector(p) for p in points]\n",
    "n = len(points) - 1"
   ]
  },
  {
   "cell_type": "markdown",
   "metadata": {},
   "source": [
    "Berechnen $a_0$ bis $a_{n+1}$\n",
    "\n",
    "$$a_i = y_i$$\n",
    "\n"
   ]
  },
  {
   "cell_type": "code",
   "execution_count": 3,
   "metadata": {
    "collapsed": false,
    "scrolled": true
   },
   "outputs": [
    {
     "data": {
      "text/plain": [
       "[0, 2, -5]"
      ]
     },
     "execution_count": 3,
     "metadata": {},
     "output_type": "execute_result"
    }
   ],
   "source": [
    "a = [p[1] for p in points]\n",
    "a"
   ]
  },
  {
   "cell_type": "markdown",
   "metadata": {},
   "source": [
    "Berechnen $h_0$ bis $h_{n}$\n",
    "\n",
    "$$h_i = x_{i+1} - x_i$$"
   ]
  },
  {
   "cell_type": "code",
   "execution_count": 4,
   "metadata": {
    "collapsed": false
   },
   "outputs": [
    {
     "data": {
      "text/plain": [
       "[3, 3]"
      ]
     },
     "execution_count": 4,
     "metadata": {},
     "output_type": "execute_result"
    }
   ],
   "source": [
    "h = [points[i+1][0] - points[i][0] for i in range(n)]\n",
    "h"
   ]
  },
  {
   "cell_type": "markdown",
   "metadata": {},
   "source": [
    "Anlegen der Matrix $A \\in M(n \\times n)$"
   ]
  },
  {
   "cell_type": "code",
   "execution_count": 5,
   "metadata": {
    "collapsed": false
   },
   "outputs": [
    {
     "data": {
      "text/plain": [
       "[ 1  0  0]\n",
       "[ 3 12  3]\n",
       "[ 0  0  1]"
      ]
     },
     "execution_count": 5,
     "metadata": {},
     "output_type": "execute_result"
    }
   ],
   "source": [
    "A = matrix([[1, 0, 0],\n",
    "            [h[0], 2*(h[0] + h[1]), h[1]],\n",
    "            [0, 0, 1]])\n",
    "A"
   ]
  },
  {
   "cell_type": "markdown",
   "metadata": {},
   "source": [
    "und des Vektors $\\bar{b}$"
   ]
  },
  {
   "cell_type": "code",
   "execution_count": 6,
   "metadata": {
    "collapsed": false
   },
   "outputs": [
    {
     "data": {
      "text/plain": [
       "(0, -9, 0)"
      ]
     },
     "execution_count": 6,
     "metadata": {},
     "output_type": "execute_result"
    }
   ],
   "source": [
    "bv = vector([0, (3/h[1])*(a[2]-a[1])- (3/h[0])*(a[1]-a[0]), 0])\n",
    "bv"
   ]
  },
  {
   "cell_type": "code",
   "execution_count": 7,
   "metadata": {
    "collapsed": false
   },
   "outputs": [
    {
     "data": {
      "text/plain": [
       "[   1    0    0]\n",
       "[-1/4 1/12 -1/4]\n",
       "[   0    0    1]"
      ]
     },
     "execution_count": 7,
     "metadata": {},
     "output_type": "execute_result"
    }
   ],
   "source": [
    "A^-1"
   ]
  },
  {
   "cell_type": "markdown",
   "metadata": {},
   "source": [
    "Lösung von $A c = \\bar{b}$ ergibt $c = \\{c_0, c_1, \\ldots, c_n\\}$"
   ]
  },
  {
   "cell_type": "code",
   "execution_count": 8,
   "metadata": {
    "collapsed": false
   },
   "outputs": [
    {
     "data": {
      "text/plain": [
       "[0, -3/4, 0]"
      ]
     },
     "execution_count": 8,
     "metadata": {},
     "output_type": "execute_result"
    }
   ],
   "source": [
    "c = list(A^-1 * bv)\n",
    "c"
   ]
  },
  {
   "cell_type": "markdown",
   "metadata": {},
   "source": [
    "$$b_i = \\frac{1}{h_i}(a_{i+1} - a_i) - \\frac{h_i}{3}(2 c_i + c_{i+1})$$"
   ]
  },
  {
   "cell_type": "code",
   "execution_count": 9,
   "metadata": {
    "collapsed": false
   },
   "outputs": [
    {
     "data": {
      "text/plain": [
       "[17/12, -5/6]"
      ]
     },
     "execution_count": 9,
     "metadata": {},
     "output_type": "execute_result"
    }
   ],
   "source": [
    "b = [ 1/h[i] * (a[i+1]-a[i]) - h[i]/3*(2*c[i]+c[i+1]) for i in range(len(points)-1)];b"
   ]
  },
  {
   "cell_type": "markdown",
   "metadata": {},
   "source": [
    "$$d_i = \\frac{c_{i+1} - c_i}{3 h_i}$$"
   ]
  },
  {
   "cell_type": "code",
   "execution_count": 10,
   "metadata": {
    "collapsed": false
   },
   "outputs": [
    {
     "data": {
      "text/plain": [
       "[-1/12, 1/12]"
      ]
     },
     "execution_count": 10,
     "metadata": {},
     "output_type": "execute_result"
    }
   ],
   "source": [
    "d = [(c[i+1]-c[i])/(3*h[i]) for i in range(len(points)-1)];d"
   ]
  },
  {
   "cell_type": "code",
   "execution_count": 11,
   "metadata": {
    "collapsed": false
   },
   "outputs": [
    {
     "name": "stdout",
     "output_type": "stream",
     "text": [
      "a = [0, 2, -5]\n",
      "b = [17/12, -5/6]\n",
      "c = [0, -3/4, 0]\n",
      "d = [-1/12, 1/12]\n",
      "h = [3, 3]\n"
     ]
    }
   ],
   "source": [
    "print 'a =', a\n",
    "print 'b =', b\n",
    "print 'c =', c\n",
    "print 'd =', d\n",
    "print 'h =', h"
   ]
  },
  {
   "cell_type": "code",
   "execution_count": 12,
   "metadata": {
    "collapsed": false
   },
   "outputs": [
    {
     "name": "stdout",
     "output_type": "stream",
     "text": [
      "S_0 =  -1/12*(x - 1)^3 + 17/12*x - 17/12\n",
      "S_1 =  1/12*(x - 4)^3 - 3/4*(x - 4)^2 - 5/6*x + 16/3\n"
     ]
    }
   ],
   "source": [
    "# all the splines\n",
    "var('x')\n",
    "S = [ a[i] + b[i]*(x-points[i][0]) + c[i]*(x-points[i][0])^2 + d[i]*(x-points[i][0])^3 for i in range(len(points)-1)]\n",
    "for i, s in enumerate(S):\n",
    "    print \"S_{} = \".format(i), s"
   ]
  },
  {
   "cell_type": "code",
   "execution_count": 13,
   "metadata": {
    "collapsed": false
   },
   "outputs": [
    {
     "data": {
      "image/png": "[encoded data removed]",
      "text/plain": [
       "Graphics object consisting of 3 graphics primitives"
      ]
     },
     "execution_count": 13,
     "metadata": {},
     "output_type": "execute_result"
    }
   ],
   "source": [
    "# plot the points and the splines for their interval\n",
    "scatter_plot(points) + sum([ plot(s, xmin=points[i][0], xmax=points[i+1][0]) for i, s in enumerate(S)])"
   ]
  },
  {
   "cell_type": "code",
   "execution_count": null,
   "metadata": {
    "collapsed": true
   },
   "outputs": [],
   "source": []
  }
 ],
 "metadata": {
  "kernelspec": {
   "display_name": "SageMath 6.10",
   "language": "",
   "name": "sagemath"
  },
  "language_info": {
   "codemirror_mode": {
    "name": "ipython",
    "version": 2
   },
   "file_extension": ".py",
   "mimetype": "text/x-python",
   "name": "python",
   "nbconvert_exporter": "python",
   "pygments_lexer": "ipython2",
   "version": "2.7.11"
  }
 },
 "nbformat": 4,
 "nbformat_minor": 0
}
