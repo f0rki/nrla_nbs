{
 "cells": [
  {
   "cell_type": "markdown",
   "metadata": {},
   "source": [
    "# Orthogonale Diagonalisierung\n",
    "\n",
    "Gegeben: Matrix $A \\in M( n \\times n)$\n",
    "\n",
    "Gesucht: Diagonalisierende Matrix $Q$ sodass $Q^T A Q = D$ wobei $D$ die Eigenwerte von A in der Hauptdiagonale enthält"
   ]
  },
  {
   "cell_type": "code",
   "execution_count": 1,
   "metadata": {
    "collapsed": true
   },
   "outputs": [],
   "source": [
    "# input: \n",
    "A = matrix([\n",
    "[5, -2, -1],\n",
    "[-2, 2, -2],\n",
    "[-1, -2, 5]\n",
    "])"
   ]
  },
  {
   "cell_type": "code",
   "execution_count": 2,
   "metadata": {
    "collapsed": true
   },
   "outputs": [],
   "source": [
    "V = []\n",
    "EW = []\n",
    "for x in A.eigenvectors_left():\n",
    "    for y in x[1]:\n",
    "        EW.append(x[0])\n",
    "        V.append(vector([val for val in y]))"
   ]
  },
  {
   "cell_type": "code",
   "execution_count": 3,
   "metadata": {
    "collapsed": true
   },
   "outputs": [],
   "source": [
    "# optional input: EW, V if chosen in different order\n",
    "# EW = []\n",
    "# V = []"
   ]
  },
  {
   "cell_type": "code",
   "execution_count": 4,
   "metadata": {
    "collapsed": false
   },
   "outputs": [
    {
     "data": {
      "text/plain": [
       "[0, 6, 6]"
      ]
     },
     "execution_count": 4,
     "metadata": {},
     "output_type": "execute_result"
    }
   ],
   "source": [
    "EW"
   ]
  },
  {
   "cell_type": "code",
   "execution_count": 5,
   "metadata": {
    "collapsed": false
   },
   "outputs": [
    {
     "data": {
      "text/plain": [
       "[(1, 2, 1), (1, 0, -1), (0, 1, -2)]"
      ]
     },
     "execution_count": 5,
     "metadata": {},
     "output_type": "execute_result"
    }
   ],
   "source": [
    "V"
   ]
  },
  {
   "cell_type": "markdown",
   "metadata": {},
   "source": [
    "Orthonormalisieren mit Gram-Schmidt Verfahren\n",
    "\n",
    "$$ w_1 = \\frac{1}{\\| v_1 \\|} v_1 $$\n",
    "$$ u_i = v_i - \\sum_{k=1}^{i-1} \\langle v_i, w_k \\rangle w_k $$\n",
    "$$ w_i = \\frac{1}{\\| u_i \\|} u_i $$"
   ]
  },
  {
   "cell_type": "code",
   "execution_count": 6,
   "metadata": {
    "collapsed": true
   },
   "outputs": [],
   "source": [
    "W = []\n",
    "U = []\n",
    "W.append((1/(V[0].norm())) * V[0])\n",
    "for v in V[1:]:\n",
    "    s = sum([(v.dot_product(w) * w) for w in W])\n",
    "    u = v - s\n",
    "    U.append(u)\n",
    "    w = (1/u.norm()) * u\n",
    "    W.append(w)"
   ]
  },
  {
   "cell_type": "code",
   "execution_count": 7,
   "metadata": {
    "collapsed": false
   },
   "outputs": [
    {
     "data": {
      "text/plain": [
       "[(1, 0, -1), (-1, 1, -1)]"
      ]
     },
     "execution_count": 7,
     "metadata": {},
     "output_type": "execute_result"
    }
   ],
   "source": [
    "U"
   ]
  },
  {
   "cell_type": "code",
   "execution_count": 8,
   "metadata": {
    "collapsed": false
   },
   "outputs": [
    {
     "data": {
      "text/plain": [
       "[ 1/6*sqrt(6)  1/2*sqrt(2) -1/3*sqrt(3)]\n",
       "[ 1/3*sqrt(6)            0  1/3*sqrt(3)]\n",
       "[ 1/6*sqrt(6) -1/2*sqrt(2) -1/3*sqrt(3)]"
      ]
     },
     "execution_count": 8,
     "metadata": {},
     "output_type": "execute_result"
    }
   ],
   "source": [
    "Q = matrix(W).T\n",
    "Q"
   ]
  },
  {
   "cell_type": "code",
   "execution_count": 9,
   "metadata": {
    "collapsed": false
   },
   "outputs": [
    {
     "data": {
      "text/plain": [
       "[0 0 0]\n",
       "[0 6 0]\n",
       "[0 0 6]"
      ]
     },
     "execution_count": 9,
     "metadata": {},
     "output_type": "execute_result"
    }
   ],
   "source": [
    "D = Q.T * A *Q\n",
    "D"
   ]
  },
  {
   "cell_type": "code",
   "execution_count": null,
   "metadata": {
    "collapsed": true
   },
   "outputs": [],
   "source": []
  }
 ],
 "metadata": {
  "kernelspec": {
   "display_name": "SageMath 6.10",
   "language": "",
   "name": "sagemath"
  },
  "language_info": {
   "codemirror_mode": {
    "name": "ipython",
    "version": 2
   },
   "file_extension": ".py",
   "mimetype": "text/x-python",
   "name": "python",
   "nbconvert_exporter": "python",
   "pygments_lexer": "ipython2",
   "version": "2.7.11"
  }
 },
 "nbformat": 4,
 "nbformat_minor": 0
}
