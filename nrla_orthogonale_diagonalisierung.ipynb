{
 "cells": [
  {
   "cell_type": "markdown",
   "metadata": {},
   "source": [
    "# Orthogonale Diagonalisierung\n",
    "\n",
    "- Gegeben: Matrix $A \\in M( n \\times n)$\n",
    "- Gesucht: Diagonalisierende Matrix $Q$ sodass $Q^T A Q = D$ wobei $D$ die Eigenwerte von A in der Hauptdiagonale enthält"
   ]
  },
  {
   "cell_type": "code",
   "execution_count": 9,
   "metadata": {
    "collapsed": true
   },
   "outputs": [],
   "source": [
    "# input: \n",
    "A = matrix([\n",
    "    [1, -1, 2],\n",
    "    [-1, 1, 2],\n",
    "    [2, 2, -2]\n",
    "])\n",
    "#"
   ]
  },
  {
   "cell_type": "code",
   "execution_count": 10,
   "metadata": {
    "collapsed": false
   },
   "outputs": [
    {
     "data": {
      "text/html": [
       "<html><script type=\"math/tex; mode=display\">\\newcommand{\\Bold}[1]{\\mathbf{#1}}\\lambda_0 =  -4</script></html>"
      ],
      "text/plain": [
       "\\lambda_0 =  -4"
      ]
     },
     "metadata": {},
     "output_type": "display_data"
    },
    {
     "data": {
      "text/html": [
       "<html><script type=\"math/tex; mode=display\">\\newcommand{\\Bold}[1]{\\mathbf{#1}}v_0 =  \\left(1,\\,1,\\,-2\\right)</script></html>"
      ],
      "text/plain": [
       "v_0 =  (1, 1, -2)"
      ]
     },
     "metadata": {},
     "output_type": "display_data"
    },
    {
     "data": {
      "text/html": [
       "<html><script type=\"math/tex; mode=display\">\\newcommand{\\Bold}[1]{\\mathbf{#1}}\\lambda_1 =  2</script></html>"
      ],
      "text/plain": [
       "\\lambda_1 =  2"
      ]
     },
     "metadata": {},
     "output_type": "display_data"
    },
    {
     "data": {
      "text/html": [
       "<html><script type=\"math/tex; mode=display\">\\newcommand{\\Bold}[1]{\\mathbf{#1}}v_1 =  \\left(1,\\,0,\\,\\frac{1}{2}\\right)</script></html>"
      ],
      "text/plain": [
       "v_1 =  (1, 0, 1/2)"
      ]
     },
     "metadata": {},
     "output_type": "display_data"
    },
    {
     "data": {
      "text/html": [
       "<html><script type=\"math/tex; mode=display\">\\newcommand{\\Bold}[1]{\\mathbf{#1}}\\lambda_1 =  2</script></html>"
      ],
      "text/plain": [
       "\\lambda_1 =  2"
      ]
     },
     "metadata": {},
     "output_type": "display_data"
    },
    {
     "data": {
      "text/html": [
       "<html><script type=\"math/tex; mode=display\">\\newcommand{\\Bold}[1]{\\mathbf{#1}}v_1 =  \\left(0,\\,1,\\,\\frac{1}{2}\\right)</script></html>"
      ],
      "text/plain": [
       "v_1 =  (0, 1, 1/2)"
      ]
     },
     "metadata": {},
     "output_type": "display_data"
    }
   ],
   "source": [
    "V = []\n",
    "EW = []\n",
    "i = 0\n",
    "for x in A.eigenvectors_left():\n",
    "    for y in x[1]:\n",
    "        EW.append(x[0])\n",
    "        show(LatexExpr(r\"\\lambda_{} = \".format(i)), x[0])\n",
    "        V.append(vector([val for val in y]))\n",
    "        show(LatexExpr(r\"v_{} = \".format(i)), y)\n",
    "    i += 1"
   ]
  },
  {
   "cell_type": "code",
   "execution_count": 11,
   "metadata": {
    "collapsed": false
   },
   "outputs": [],
   "source": [
    "# optional input: EW, V if chosen in different order\n",
    "#EW = []\n",
    "V = [\n",
    "    vector([-1, -1, 2]),\n",
    "    vector([2,0,1]),\n",
    "    vector([-1,1,0]),\n",
    "]"
   ]
  },
  {
   "cell_type": "markdown",
   "metadata": {},
   "source": [
    "Orthonormalisieren mit Gram-Schmidt Verfahren\n",
    "\n",
    "$$ w_1 = \\frac{1}{\\| v_1 \\|} v_1 $$\n",
    "$$ u_i = v_i - \\sum_{k=1}^{i-1} \\langle v_i, w_k \\rangle w_k $$\n",
    "$$ w_i = \\frac{1}{\\| u_i \\|} u_i $$"
   ]
  },
  {
   "cell_type": "code",
   "execution_count": 12,
   "metadata": {
    "collapsed": false
   },
   "outputs": [
    {
     "data": {
      "text/html": [
       "<html><script type=\"math/tex; mode=display\">\\newcommand{\\Bold}[1]{\\mathbf{#1}}v_0 = \\left(-1,\\,-1,\\,2\\right)</script></html>"
      ],
      "text/plain": [
       "v_0 = (-1, -1, 2)"
      ]
     },
     "metadata": {},
     "output_type": "display_data"
    },
    {
     "data": {
      "text/html": [
       "<html><script type=\"math/tex; mode=display\">\\newcommand{\\Bold}[1]{\\mathbf{#1}}w_0 = \\left(-\\frac{1}{6} \\, \\sqrt{6},\\,-\\frac{1}{6} \\, \\sqrt{6},\\,\\frac{1}{3} \\, \\sqrt{6}\\right)</script></html>"
      ],
      "text/plain": [
       "w_0 = (-1/6*sqrt(6), -1/6*sqrt(6), 1/3*sqrt(6))"
      ]
     },
     "metadata": {},
     "output_type": "display_data"
    },
    {
     "name": "stdout",
     "output_type": "stream",
     "text": [
      "\n"
     ]
    },
    {
     "data": {
      "text/html": [
       "<html><script type=\"math/tex; mode=display\">\\newcommand{\\Bold}[1]{\\mathbf{#1}}v_1 = \\left(2,\\,0,\\,1\\right)</script></html>"
      ],
      "text/plain": [
       "v_1 = (2, 0, 1)"
      ]
     },
     "metadata": {},
     "output_type": "display_data"
    },
    {
     "data": {
      "text/html": [
       "<html><script type=\"math/tex; mode=display\">\\newcommand{\\Bold}[1]{\\mathbf{#1}}u_1 = \\left(2,\\,0,\\,1\\right)</script></html>"
      ],
      "text/plain": [
       "u_1 = (2, 0, 1)"
      ]
     },
     "metadata": {},
     "output_type": "display_data"
    },
    {
     "data": {
      "text/html": [
       "<html><script type=\"math/tex; mode=display\">\\newcommand{\\Bold}[1]{\\mathbf{#1}}w_1 = \\left(\\frac{2}{5} \\, \\sqrt{5},\\,0,\\,\\frac{1}{5} \\, \\sqrt{5}\\right)</script></html>"
      ],
      "text/plain": [
       "w_1 = (2/5*sqrt(5), 0, 1/5*sqrt(5))"
      ]
     },
     "metadata": {},
     "output_type": "display_data"
    },
    {
     "name": "stdout",
     "output_type": "stream",
     "text": [
      "\n"
     ]
    },
    {
     "data": {
      "text/html": [
       "<html><script type=\"math/tex; mode=display\">\\newcommand{\\Bold}[1]{\\mathbf{#1}}v_2 = \\left(-1,\\,1,\\,0\\right)</script></html>"
      ],
      "text/plain": [
       "v_2 = (-1, 1, 0)"
      ]
     },
     "metadata": {},
     "output_type": "display_data"
    },
    {
     "data": {
      "text/html": [
       "<html><script type=\"math/tex; mode=display\">\\newcommand{\\Bold}[1]{\\mathbf{#1}}u_2 = \\left(-\\frac{1}{5},\\,1,\\,\\frac{2}{5}\\right)</script></html>"
      ],
      "text/plain": [
       "u_2 = (-1/5, 1, 2/5)"
      ]
     },
     "metadata": {},
     "output_type": "display_data"
    },
    {
     "data": {
      "text/html": [
       "<html><script type=\"math/tex; mode=display\">\\newcommand{\\Bold}[1]{\\mathbf{#1}}w_2 = \\left(-\\frac{1}{6} \\, \\sqrt{\\frac{6}{5}},\\,\\frac{5}{6} \\, \\sqrt{\\frac{6}{5}},\\,\\frac{1}{3} \\, \\sqrt{\\frac{6}{5}}\\right)</script></html>"
      ],
      "text/plain": [
       "w_2 = (-1/6*sqrt(6/5), 5/6*sqrt(6/5), 1/3*sqrt(6/5))"
      ]
     },
     "metadata": {},
     "output_type": "display_data"
    },
    {
     "name": "stdout",
     "output_type": "stream",
     "text": [
      "\n"
     ]
    }
   ],
   "source": [
    "W = []\n",
    "U = []\n",
    "W.append((1/(V[0].norm())) * V[0])\n",
    "show(LatexExpr(\"v_0 =\"), V[0])\n",
    "show(LatexExpr(\"w_0 =\"), W[0])\n",
    "print\n",
    "for i, v in enumerate(V[1:]):\n",
    "    show(LatexExpr(\"v_{} =\".format(i+1)), v)\n",
    "    s = sum([(v.dot_product(w) * w) for w in W])\n",
    "    u = v - s\n",
    "    show(LatexExpr(\"u_{} =\".format(i+1)), u)\n",
    "    U.append(u)\n",
    "    w = (1/u.norm()) * u\n",
    "    show(LatexExpr(\"w_{} =\".format(i+1)), w)\n",
    "    W.append(w)\n",
    "    print"
   ]
  },
  {
   "cell_type": "code",
   "execution_count": 13,
   "metadata": {
    "collapsed": false
   },
   "outputs": [
    {
     "data": {
      "text/html": [
       "<html><script type=\"math/tex; mode=display\">\\newcommand{\\Bold}[1]{\\mathbf{#1}}\\left(\\begin{array}{rrr}\n",
       "-\\frac{1}{6} \\, \\sqrt{6} & \\frac{2}{5} \\, \\sqrt{5} & -\\frac{1}{6} \\, \\sqrt{\\frac{6}{5}} \\\\\n",
       "-\\frac{1}{6} \\, \\sqrt{6} & 0 & \\frac{5}{6} \\, \\sqrt{\\frac{6}{5}} \\\\\n",
       "\\frac{1}{3} \\, \\sqrt{6} & \\frac{1}{5} \\, \\sqrt{5} & \\frac{1}{3} \\, \\sqrt{\\frac{6}{5}}\n",
       "\\end{array}\\right)</script></html>"
      ],
      "text/plain": [
       "[  -1/6*sqrt(6)    2/5*sqrt(5) -1/6*sqrt(6/5)]\n",
       "[  -1/6*sqrt(6)              0  5/6*sqrt(6/5)]\n",
       "[   1/3*sqrt(6)    1/5*sqrt(5)  1/3*sqrt(6/5)]"
      ]
     },
     "metadata": {},
     "output_type": "display_data"
    }
   ],
   "source": [
    "Q = matrix(W).T\n",
    "show(Q)"
   ]
  },
  {
   "cell_type": "code",
   "execution_count": 14,
   "metadata": {
    "collapsed": false
   },
   "outputs": [
    {
     "data": {
      "text/html": [
       "<html><script type=\"math/tex; mode=display\">\\newcommand{\\Bold}[1]{\\mathbf{#1}}\\left(\\begin{array}{rrr}\n",
       "-4 & 0 & 0 \\\\\n",
       "0 & 2 & 0 \\\\\n",
       "0 & 0 & 2\n",
       "\\end{array}\\right)</script></html>"
      ],
      "text/plain": [
       "[-4  0  0]\n",
       "[ 0  2  0]\n",
       "[ 0  0  2]"
      ]
     },
     "metadata": {},
     "output_type": "display_data"
    }
   ],
   "source": [
    "D = Q.T * A *Q\n",
    "show(D)"
   ]
  },
  {
   "cell_type": "code",
   "execution_count": 15,
   "metadata": {
    "collapsed": true
   },
   "outputs": [],
   "source": [
    "assert D.ncols() == D.nrows(), \"not a n x n matrix!\"\n",
    "for i in range(D.ncols()):\n",
    "    assert D[i,i] == EW[i], \"D[{1},{1}] != EW[{1}]\".format(i)\n",
    "    "
   ]
  }
 ],
 "metadata": {
  "kernelspec": {
   "display_name": "SageMath 7.0",
   "language": "",
   "name": "sagemath"
  },
  "language_info": {
   "codemirror_mode": {
    "name": "ipython",
    "version": 2
   },
   "file_extension": ".py",
   "mimetype": "text/x-python",
   "name": "python",
   "nbconvert_exporter": "python",
   "pygments_lexer": "ipython2",
   "version": "2.7.11"
  }
 },
 "nbformat": 4,
 "nbformat_minor": 0
}
