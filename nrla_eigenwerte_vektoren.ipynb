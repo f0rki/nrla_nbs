{
 "cells": [
  {
   "cell_type": "markdown",
   "metadata": {},
   "source": [
    "# Eigenwerte und Eigenvektoren berechnen\n",
    "\n",
    "- Gegeben: Matrix $A$\n",
    "- Gesucht: Eigenwerte und zugehörige Eigenvektoren"
   ]
  },
  {
   "cell_type": "code",
   "execution_count": 2,
   "metadata": {
    "collapsed": true
   },
   "outputs": [],
   "source": [
    "# input:\n",
    "A = matrix([\n",
    "    [1, -1, 2],\n",
    "    [-1, 1, 2],\n",
    "    [2, 2, -2]\n",
    "    ])\n",
    "#"
   ]
  },
  {
   "cell_type": "markdown",
   "metadata": {},
   "source": [
    "Charakteristisches Polynom berechnen:\n",
    "$$P(\\lambda) = det(A - \\lambda I) = \\begin{vmatrix}\n",
    "a_{1,1} - \\lambda & a_{1,2} & \\ldots & a_{1,n} \\\\\n",
    "a_{2,1} & a_{2,2}  - \\lambda & \\ldots & a_{2,n} \\\\\n",
    "\\vdots & \\vdots & \\ddots & \\vdots \\\\\n",
    "a_{n,1} & a_{n,2} & \\ldots & a_{n,n} - \\lambda \\\\\n",
    "\\end{vmatrix}$$"
   ]
  },
  {
   "cell_type": "code",
   "execution_count": 3,
   "metadata": {
    "collapsed": false
   },
   "outputs": [
    {
     "data": {
      "text/html": [
       "<html><script type=\"math/tex; mode=display\">\\newcommand{\\Bold}[1]{\\mathbf{#1}}\\left(\\begin{array}{rrr}\n",
       "-e + 1 & -1 & 2 \\\\\n",
       "-1 & -e + 1 & 2 \\\\\n",
       "2 & 2 & -e - 2\n",
       "\\end{array}\\right)</script></html>"
      ],
      "text/plain": [
       "[-e + 1     -1      2]\n",
       "[    -1 -e + 1      2]\n",
       "[     2      2 -e - 2]"
      ]
     },
     "metadata": {},
     "output_type": "display_data"
    }
   ],
   "source": [
    "e = var('e')\n",
    "pem = (A - e * identity_matrix(*A.dimensions()))\n",
    "show(pem)"
   ]
  },
  {
   "cell_type": "code",
   "execution_count": 15,
   "metadata": {
    "collapsed": false
   },
   "outputs": [
    {
     "data": {
      "text/html": [
       "<html><script type=\"math/tex; mode=display\">\\newcommand{\\Bold}[1]{\\mathbf{#1}}-e^{3} + 12 \\, e - 16</script></html>"
      ],
      "text/plain": [
       "-e^3 + 12*e - 16"
      ]
     },
     "metadata": {},
     "output_type": "display_data"
    },
    {
     "data": {
      "text/html": [
       "<html><script type=\"math/tex; mode=display\">\\newcommand{\\Bold}[1]{\\mathbf{#1}}-e^{2} - 2 \\, e + 8</script></html>"
      ],
      "text/plain": [
       "-e^2 - 2*e + 8"
      ]
     },
     "metadata": {},
     "output_type": "display_data"
    },
    {
     "data": {
      "text/html": [
       "<html><script type=\"math/tex; mode=display\">\\newcommand{\\Bold}[1]{\\mathbf{#1}}\\left[e = \\left(-4\\right), e = 2\\right]</script></html>"
      ],
      "text/plain": [
       "[e == -4, e == 2]"
      ]
     },
     "metadata": {},
     "output_type": "display_data"
    }
   ],
   "source": [
    "pe = pem.det()\n",
    "show(pe.simplify_full())\n",
    "show((pe / (var('e') - 2)).simplify_full())\n",
    "show(solve([(pe / (var('e') - 2))], e))"
   ]
  },
  {
   "cell_type": "markdown",
   "metadata": {},
   "source": [
    "Lösen des Systems $P(\\lambda) = 0$ ergibt die Eigenwerte:"
   ]
  },
  {
   "cell_type": "code",
   "execution_count": 5,
   "metadata": {
    "collapsed": false
   },
   "outputs": [
    {
     "data": {
      "text/html": [
       "<html><script type=\"math/tex; mode=display\">\\newcommand{\\Bold}[1]{\\mathbf{#1}}\\left[e = \\left(-4\\right), e = 2\\right]</script></html>"
      ],
      "text/plain": [
       "[e == -4, e == 2]"
      ]
     },
     "metadata": {},
     "output_type": "display_data"
    }
   ],
   "source": [
    "EW = [x for x in solve([pe == 0], e)]\n",
    "show(EW)"
   ]
  },
  {
   "cell_type": "markdown",
   "metadata": {},
   "source": [
    "Bestimmung der Eigenvektoren $v_i$ zu den Eigenwerten $\\lambda_i$ durch Lösen der Gleichungen \n",
    "$$(A - \\lambda_{i} \\cdot I) \\cdot x = 0$$"
   ]
  },
  {
   "cell_type": "code",
   "execution_count": 6,
   "metadata": {
    "collapsed": false
   },
   "outputs": [
    {
     "data": {
      "text/html": [
       "<html><script type=\"math/tex; mode=display\">\\newcommand{\\Bold}[1]{\\mathbf{#1}}e = \\left(-4\\right)</script></html>"
      ],
      "text/plain": [
       "e == -4"
      ]
     },
     "metadata": {},
     "output_type": "display_data"
    },
    {
     "data": {
      "text/html": [
       "<html><script type=\"math/tex; mode=display\">\\newcommand{\\Bold}[1]{\\mathbf{#1}}\\left(\\begin{array}{rrr}\n",
       "5 & -1 & 2 \\\\\n",
       "-1 & 5 & 2 \\\\\n",
       "2 & 2 & 2\n",
       "\\end{array}\\right) \\quad \\leadsto \\quad \\left(\\begin{array}{rrr}\n",
       "1 & 0 & \\frac{1}{2} \\\\\n",
       "0 & 1 & \\frac{1}{2} \\\\\n",
       "0 & 0 & 0\n",
       "\\end{array}\\right)</script></html>"
      ],
      "text/plain": [
       "[ 5 -1  2]\n",
       "[-1  5  2]\n",
       "[ 2  2  2] \\quad \\leadsto \\quad [  1   0 1/2]\n",
       "[  0   1 1/2]\n",
       "[  0   0   0]"
      ]
     },
     "metadata": {},
     "output_type": "display_data"
    },
    {
     "name": "stdout",
     "output_type": "stream",
     "text": [
      "EV:\n"
     ]
    },
    {
     "data": {
      "text/html": [
       "<html><script type=\"math/tex; mode=display\">\\newcommand{\\Bold}[1]{\\mathbf{#1}}\\left[x_{0} = -\\frac{1}{2} \\, r_{1}, x_{1} = -\\frac{1}{2} \\, r_{1}, x_{2} = r_{1}\\right]</script></html>"
      ],
      "text/plain": [
       "[x0 == -1/2*r1, x1 == -1/2*r1, x2 == r1]"
      ]
     },
     "metadata": {},
     "output_type": "display_data"
    },
    {
     "name": "stdout",
     "output_type": "stream",
     "text": [
      "\n",
      "\n"
     ]
    },
    {
     "data": {
      "text/html": [
       "<html><script type=\"math/tex; mode=display\">\\newcommand{\\Bold}[1]{\\mathbf{#1}}e = 2</script></html>"
      ],
      "text/plain": [
       "e == 2"
      ]
     },
     "metadata": {},
     "output_type": "display_data"
    },
    {
     "data": {
      "text/html": [
       "<html><script type=\"math/tex; mode=display\">\\newcommand{\\Bold}[1]{\\mathbf{#1}}\\left(\\begin{array}{rrr}\n",
       "-1 & -1 & 2 \\\\\n",
       "-1 & -1 & 2 \\\\\n",
       "2 & 2 & -4\n",
       "\\end{array}\\right) \\quad \\leadsto \\quad \\left(\\begin{array}{rrr}\n",
       "1 & 1 & -2 \\\\\n",
       "0 & 0 & 0 \\\\\n",
       "0 & 0 & 0\n",
       "\\end{array}\\right)</script></html>"
      ],
      "text/plain": [
       "[-1 -1  2]\n",
       "[-1 -1  2]\n",
       "[ 2  2 -4] \\quad \\leadsto \\quad [ 1  1 -2]\n",
       "[ 0  0  0]\n",
       "[ 0  0  0]"
      ]
     },
     "metadata": {},
     "output_type": "display_data"
    },
    {
     "name": "stdout",
     "output_type": "stream",
     "text": [
      "EV:\n"
     ]
    },
    {
     "data": {
      "text/html": [
       "<html><script type=\"math/tex; mode=display\">\\newcommand{\\Bold}[1]{\\mathbf{#1}}\\left[x_{0} = 2 \\, r_{2} - r_{3}, x_{1} = r_{3}, x_{2} = r_{2}\\right]</script></html>"
      ],
      "text/plain": [
       "[x0 == 2*r2 - r3, x1 == r3, x2 == r2]"
      ]
     },
     "metadata": {},
     "output_type": "display_data"
    },
    {
     "name": "stdout",
     "output_type": "stream",
     "text": [
      "\n",
      "\n"
     ]
    }
   ],
   "source": [
    "for ew in EW:\n",
    "    show(ew)\n",
    "    m = pem.subs(e=ew).simplify_full()\n",
    "    for i in range(m.dimensions()[0]):\n",
    "        m[i,i] = m[i,i].rhs()\n",
    "    show(m, LatexExpr(\"\\quad \\leadsto \\quad\"), m.echelon_form())\n",
    "    m.echelonize()\n",
    "    xsym = vector([var(\"x{}\".format(i)) for i in range(m.dimensions()[0])])\n",
    "    v = (m * xsym).simplify_full()\n",
    "    eqns = [v[i] == 0 for i in range(len(v))]\n",
    "    print \"EV:\"\n",
    "    show(*solve(eqns, *xsym))\n",
    "    print \"\\n\""
   ]
  },
  {
   "cell_type": "markdown",
   "metadata": {},
   "source": [
    "Mit sage internals:"
   ]
  },
  {
   "cell_type": "code",
   "execution_count": 7,
   "metadata": {
    "collapsed": false
   },
   "outputs": [
    {
     "data": {
      "text/html": [
       "<html><script type=\"math/tex; mode=display\">\\newcommand{\\Bold}[1]{\\mathbf{#1}}x^{3} - 12x + 16</script></html>"
      ],
      "text/plain": [
       "x^3 - 12*x + 16"
      ]
     },
     "metadata": {},
     "output_type": "display_data"
    }
   ],
   "source": [
    "show(A.characteristic_polynomial())"
   ]
  },
  {
   "cell_type": "code",
   "execution_count": 8,
   "metadata": {
    "collapsed": false
   },
   "outputs": [
    {
     "data": {
      "text/html": [
       "<html><script type=\"math/tex; mode=display\">\\newcommand{\\Bold}[1]{\\mathbf{#1}}\\left[-4, 2, 2\\right]</script></html>"
      ],
      "text/plain": [
       "[-4, 2, 2]"
      ]
     },
     "metadata": {},
     "output_type": "display_data"
    }
   ],
   "source": [
    "show(A.eigenvalues())"
   ]
  },
  {
   "cell_type": "code",
   "execution_count": 9,
   "metadata": {
    "collapsed": false
   },
   "outputs": [
    {
     "data": {
      "text/html": [
       "<html><script type=\"math/tex; mode=display\">\\newcommand{\\Bold}[1]{\\mathbf{#1}}-4</script></html>"
      ],
      "text/plain": [
       "-4"
      ]
     },
     "metadata": {},
     "output_type": "display_data"
    },
    {
     "data": {
      "text/html": [
       "<html><script type=\"math/tex; mode=display\">\\newcommand{\\Bold}[1]{\\mathbf{#1}}\\left(1,\\,1,\\,-2\\right)</script></html>"
      ],
      "text/plain": [
       "(1, 1, -2)"
      ]
     },
     "metadata": {},
     "output_type": "display_data"
    },
    {
     "name": "stdout",
     "output_type": "stream",
     "text": [
      "\n"
     ]
    },
    {
     "data": {
      "text/html": [
       "<html><script type=\"math/tex; mode=display\">\\newcommand{\\Bold}[1]{\\mathbf{#1}}2</script></html>"
      ],
      "text/plain": [
       "2"
      ]
     },
     "metadata": {},
     "output_type": "display_data"
    },
    {
     "data": {
      "text/html": [
       "<html><script type=\"math/tex; mode=display\">\\newcommand{\\Bold}[1]{\\mathbf{#1}}\\left(1,\\,0,\\,\\frac{1}{2}\\right)</script></html>"
      ],
      "text/plain": [
       "(1, 0, 1/2)"
      ]
     },
     "metadata": {},
     "output_type": "display_data"
    },
    {
     "data": {
      "text/html": [
       "<html><script type=\"math/tex; mode=display\">\\newcommand{\\Bold}[1]{\\mathbf{#1}}\\left(0,\\,1,\\,\\frac{1}{2}\\right)</script></html>"
      ],
      "text/plain": [
       "(0, 1, 1/2)"
      ]
     },
     "metadata": {},
     "output_type": "display_data"
    },
    {
     "name": "stdout",
     "output_type": "stream",
     "text": [
      "\n"
     ]
    }
   ],
   "source": [
    "for e in A.eigenvectors_left():\n",
    "    show(e[0])\n",
    "    for v in e[1]:\n",
    "        show(v)\n",
    "    print \"\""
   ]
  },
  {
   "cell_type": "code",
   "execution_count": 10,
   "metadata": {
    "collapsed": false
   },
   "outputs": [
    {
     "data": {
      "text/html": [
       "<html><script type=\"math/tex; mode=display\">\\newcommand{\\Bold}[1]{\\mathbf{#1}}-4</script></html>"
      ],
      "text/plain": [
       "-4"
      ]
     },
     "metadata": {},
     "output_type": "display_data"
    },
    {
     "data": {
      "text/html": [
       "<html><script type=\"math/tex; mode=display\">\\newcommand{\\Bold}[1]{\\mathbf{#1}}\\left(1,\\,1,\\,-2\\right)</script></html>"
      ],
      "text/plain": [
       "(1, 1, -2)"
      ]
     },
     "metadata": {},
     "output_type": "display_data"
    },
    {
     "name": "stdout",
     "output_type": "stream",
     "text": [
      "\n"
     ]
    },
    {
     "data": {
      "text/html": [
       "<html><script type=\"math/tex; mode=display\">\\newcommand{\\Bold}[1]{\\mathbf{#1}}2</script></html>"
      ],
      "text/plain": [
       "2"
      ]
     },
     "metadata": {},
     "output_type": "display_data"
    },
    {
     "data": {
      "text/html": [
       "<html><script type=\"math/tex; mode=display\">\\newcommand{\\Bold}[1]{\\mathbf{#1}}\\left(1,\\,0,\\,\\frac{1}{2}\\right)</script></html>"
      ],
      "text/plain": [
       "(1, 0, 1/2)"
      ]
     },
     "metadata": {},
     "output_type": "display_data"
    },
    {
     "data": {
      "text/html": [
       "<html><script type=\"math/tex; mode=display\">\\newcommand{\\Bold}[1]{\\mathbf{#1}}\\left(0,\\,1,\\,\\frac{1}{2}\\right)</script></html>"
      ],
      "text/plain": [
       "(0, 1, 1/2)"
      ]
     },
     "metadata": {},
     "output_type": "display_data"
    },
    {
     "name": "stdout",
     "output_type": "stream",
     "text": [
      "\n"
     ]
    }
   ],
   "source": [
    "for e in A.eigenvectors_right():\n",
    "    show(e[0])\n",
    "    for v in e[1]:\n",
    "        show(v)\n",
    "    print \"\""
   ]
  }
 ],
 "metadata": {
  "kernelspec": {
   "display_name": "SageMath 7.0",
   "language": "",
   "name": "sagemath"
  },
  "language_info": {
   "codemirror_mode": {
    "name": "ipython",
    "version": 2
   },
   "file_extension": ".py",
   "mimetype": "text/x-python",
   "name": "python",
   "nbconvert_exporter": "python",
   "pygments_lexer": "ipython2",
   "version": "2.7.11"
  }
 },
 "nbformat": 4,
 "nbformat_minor": 0
}
