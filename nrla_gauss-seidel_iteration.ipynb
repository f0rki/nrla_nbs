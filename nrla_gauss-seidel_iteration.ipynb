{
 "cells": [
  {
   "cell_type": "markdown",
   "metadata": {},
   "source": [
    "# Gauß-Seidel Iteration\n",
    "\n",
    "Gegeben: Gleichungssystem mit $n$ Gleichungen und $n$ Unbekannten\n",
    "\n",
    "Gesucht: Näherungslösung, Konvergenzrate"
   ]
  },
  {
   "cell_type": "code",
   "execution_count": 1,
   "metadata": {
    "collapsed": true
   },
   "outputs": [],
   "source": [
    "# input: number of iterations\n",
    "n = 2\n",
    "# input: equations in the form Ax = b\n",
    "A = matrix([\n",
    "[-4,2],\n",
    "[3,5]\n",
    "])\n",
    "b = vector([1,-3])\n",
    "# input: start vector\n",
    "x0 = vector([1,1])"
   ]
  },
  {
   "cell_type": "markdown",
   "metadata": {},
   "source": [
    "Matrix Form der Gauß-Seidel Iteration:\n",
    "\n",
    "$L$ ist eine strikt linke untere Dreiecksmatrix (Diagonalelemente sind 0)\n",
    "\n",
    "$R$ ist eine strikt rechte obere Dreiecksmatrix (Diagonalelemente sind 0)\n",
    "\n",
    "$D$ ist eine Diagonalmatrix"
   ]
  },
  {
   "cell_type": "code",
   "execution_count": 2,
   "metadata": {
    "collapsed": false
   },
   "outputs": [
    {
     "data": {
      "text/plain": [
       "(\n",
       "[0 0]  [-4  0]  [0 2]\n",
       "[3 0], [ 0  5], [0 0]\n",
       ")"
      ]
     },
     "execution_count": 2,
     "metadata": {},
     "output_type": "execute_result"
    }
   ],
   "source": [
    "L = matrix([[A[i,j] if j < i else 0\n",
    "             for j in range(A.dimensions()[1])] \n",
    "             for i in range(A.dimensions()[0])\n",
    "            ])\n",
    "R = matrix([[A[i,j] if j > i else 0\n",
    "             for j in range(A.dimensions()[1])] \n",
    "             for i in range(A.dimensions()[0])\n",
    "            ])\n",
    "D = matrix([[A[i,j] if j == i else 0\n",
    "             for j in range(A.dimensions()[1])] \n",
    "             for i in range(A.dimensions()[0])\n",
    "             ])\n",
    "L,D,R"
   ]
  },
  {
   "cell_type": "markdown",
   "metadata": {},
   "source": [
    "$$ T_{GS} = -(D + L)^{-1} * R $$\n",
    "\n",
    "Gauss-Seidel-Schritt:\n",
    "$$ x_{k+1} = T_{GS} x_k + (D + L)^{-1} b $$"
   ]
  },
  {
   "cell_type": "code",
   "execution_count": 3,
   "metadata": {
    "collapsed": true
   },
   "outputs": [],
   "source": [
    "# compute intermediate values\n",
    "TGS = -(D + L)^-1 * R\n",
    "DLb = (D+L)^-1 * b"
   ]
  },
  {
   "cell_type": "code",
   "execution_count": 4,
   "metadata": {
    "collapsed": false
   },
   "outputs": [
    {
     "data": {
      "text/plain": [
       "[(1, 1), (1/4, -3/4), (-5/8, -9/40)]"
      ]
     },
     "execution_count": 4,
     "metadata": {},
     "output_type": "execute_result"
    }
   ],
   "source": [
    "# perform n steps of the iteration, saving the result\n",
    "x = [x0]\n",
    "for i in range(n):\n",
    "    xk = TGS * x[-1] + DLb\n",
    "    x.append(xk)\n",
    "x"
   ]
  },
  {
   "cell_type": "markdown",
   "metadata": {},
   "source": [
    "Aufteilen von $A$ in $$A = S - T$$ wobei $S$ eine linke untere Dreiecksmatrix ist"
   ]
  },
  {
   "cell_type": "code",
   "execution_count": 5,
   "metadata": {
    "collapsed": false
   },
   "outputs": [
    {
     "data": {
      "text/plain": [
       "(\n",
       "[-4  0]  [0 2]\n",
       "[ 3  5], [0 0]\n",
       ")"
      ]
     },
     "execution_count": 5,
     "metadata": {},
     "output_type": "execute_result"
    }
   ],
   "source": [
    "S = matrix([[A[i,j] if j <= i else 0\n",
    "             for j in range(A.dimensions()[1])] \n",
    "             for i in range(A.dimensions()[0])\n",
    "            ])\n",
    "T = matrix([[A[i,j] if j > i else 0\n",
    "             for j in range(A.dimensions()[1])] \n",
    "             for i in range(A.dimensions()[0])\n",
    "            ])\n",
    "assert A == S + T\n",
    "S, T"
   ]
  },
  {
   "cell_type": "code",
   "execution_count": 6,
   "metadata": {
    "collapsed": false
   },
   "outputs": [
    {
     "data": {
      "text/plain": [
       "[   0 -1/2]\n",
       "[   0 3/10]"
      ]
     },
     "execution_count": 6,
     "metadata": {},
     "output_type": "execute_result"
    }
   ],
   "source": [
    "sit = S^-1 * T\n",
    "sit"
   ]
  },
  {
   "cell_type": "code",
   "execution_count": 7,
   "metadata": {
    "collapsed": false
   },
   "outputs": [
    {
     "data": {
      "text/plain": [
       "3/10"
      ]
     },
     "execution_count": 7,
     "metadata": {},
     "output_type": "execute_result"
    }
   ],
   "source": [
    "spektral_radius = lambda M: max(map(abs, M.eigenvalues()))\n",
    "spektral_radius(sit)"
   ]
  },
  {
   "cell_type": "code",
   "execution_count": 8,
   "metadata": {
    "collapsed": false
   },
   "outputs": [
    {
     "data": {
      "text/plain": [
       "(-log(3/10)/log(10), 0.5228787452803375)"
      ]
     },
     "execution_count": 8,
     "metadata": {},
     "output_type": "execute_result"
    }
   ],
   "source": [
    "r = - log(spektral_radius(sit), 10)\n",
    "r, RDF(r)"
   ]
  },
  {
   "cell_type": "markdown",
   "metadata": {},
   "source": [
    "Exakte Lösung zum Vergleich"
   ]
  },
  {
   "cell_type": "code",
   "execution_count": 9,
   "metadata": {
    "collapsed": false
   },
   "outputs": [
    {
     "data": {
      "text/plain": [
       "(-11/26, -9/26)"
      ]
     },
     "execution_count": 9,
     "metadata": {},
     "output_type": "execute_result"
    }
   ],
   "source": [
    "A^-1 * b"
   ]
  },
  {
   "cell_type": "code",
   "execution_count": null,
   "metadata": {
    "collapsed": true
   },
   "outputs": [],
   "source": []
  }
 ],
 "metadata": {
  "kernelspec": {
   "display_name": "SageMath 6.10",
   "language": "",
   "name": "sagemath"
  },
  "language_info": {
   "codemirror_mode": {
    "name": "ipython",
    "version": 2
   },
   "file_extension": ".py",
   "mimetype": "text/x-python",
   "name": "python",
   "nbconvert_exporter": "python",
   "pygments_lexer": "ipython2",
   "version": "2.7.11"
  }
 },
 "nbformat": 4,
 "nbformat_minor": 0
}
