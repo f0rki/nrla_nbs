{
 "cells": [
  {
   "cell_type": "markdown",
   "metadata": {},
   "source": [
    "# Gauß-Seidel Iteration\n",
    "\n",
    "- Gegeben: Gleichungssystem mit $n$ Gleichungen und $n$ Unbekannten\n",
    "- Gesucht: Näherungslösung, Konvergenzrate"
   ]
  },
  {
   "cell_type": "code",
   "execution_count": 1,
   "metadata": {
    "collapsed": true
   },
   "outputs": [],
   "source": [
    "# input: number of iterations\n",
    "n = 2\n",
    "# input: equations in the form Ax = b\n",
    "A = matrix([\n",
    "    [5, -3],\n",
    "    [4, -6]\n",
    "])\n",
    "b = vector([-2, 1])\n",
    "# input: start vector\n",
    "x0 = vector([1, 1])\n",
    "#"
   ]
  },
  {
   "cell_type": "markdown",
   "metadata": {},
   "source": [
    "Matrix Form der Gauß-Seidel Iteration:\n",
    "\n",
    "- $L$ ist eine strikt linke untere Dreiecksmatrix (Diagonalelemente sind 0)\n",
    "- $R$ ist eine strikt rechte obere Dreiecksmatrix (Diagonalelemente sind 0)\n",
    "- $D$ ist eine Diagonalmatrix"
   ]
  },
  {
   "cell_type": "code",
   "execution_count": 2,
   "metadata": {
    "collapsed": false
   },
   "outputs": [
    {
     "data": {
      "text/html": [
       "<html><script type=\"math/tex; mode=display\">\\newcommand{\\Bold}[1]{\\mathbf{#1}}L =  \\left(\\begin{array}{rr}\n",
       "0 & 0 \\\\\n",
       "4 & 0\n",
       "\\end{array}\\right) \\quad D =  \\left(\\begin{array}{rr}\n",
       "5 & 0 \\\\\n",
       "0 & -6\n",
       "\\end{array}\\right) \\quad R =  \\left(\\begin{array}{rr}\n",
       "0 & -3 \\\\\n",
       "0 & 0\n",
       "\\end{array}\\right)</script></html>"
      ],
      "text/plain": [
       "L =  [0 0]\n",
       "[4 0] \\quad D =  [ 5  0]\n",
       "[ 0 -6] \\quad R =  [ 0 -3]\n",
       "[ 0  0]"
      ]
     },
     "metadata": {},
     "output_type": "display_data"
    }
   ],
   "source": [
    "L = matrix([[A[i,j] if j < i else 0\n",
    "             for j in range(A.dimensions()[1])] \n",
    "             for i in range(A.dimensions()[0])\n",
    "            ])\n",
    "R = matrix([[A[i,j] if j > i else 0\n",
    "             for j in range(A.dimensions()[1])] \n",
    "             for i in range(A.dimensions()[0])\n",
    "            ])\n",
    "D = matrix([[A[i,j] if j == i else 0\n",
    "             for j in range(A.dimensions()[1])] \n",
    "             for i in range(A.dimensions()[0])\n",
    "             ])\n",
    "show(LatexExpr(\"L = \"), L, LatexExpr(r\"\\quad D = \"), D, LatexExpr(r\"\\quad R = \"), R)"
   ]
  },
  {
   "cell_type": "markdown",
   "metadata": {},
   "source": [
    "$$ T_{GS} = -(D + L)^{-1} \\cdot R $$\n",
    "\n",
    "Gauss-Seidel-Schritt:\n",
    "$$ x_{k+1} = T_{GS} \\cdot x_k + (D + L)^{-1} b $$"
   ]
  },
  {
   "cell_type": "code",
   "execution_count": 3,
   "metadata": {
    "collapsed": false
   },
   "outputs": [
    {
     "data": {
      "text/html": [
       "<html><script type=\"math/tex; mode=display\">\\newcommand{\\Bold}[1]{\\mathbf{#1}}\\left(\\begin{array}{rr}\n",
       "0 & \\frac{3}{5} \\\\\n",
       "0 & \\frac{2}{5}\n",
       "\\end{array}\\right) \\left(-\\frac{2}{5},\\,-\\frac{13}{30}\\right)</script></html>"
      ],
      "text/plain": [
       "[  0 3/5]\n",
       "[  0 2/5] (-2/5, -13/30)"
      ]
     },
     "metadata": {},
     "output_type": "display_data"
    }
   ],
   "source": [
    "# compute intermediate values\n",
    "TGS = -(D + L)^-1 * R\n",
    "DLb = (D+L)^-1 * b\n",
    "show(TGS, DLb)"
   ]
  },
  {
   "cell_type": "code",
   "execution_count": 4,
   "metadata": {
    "collapsed": false
   },
   "outputs": [
    {
     "data": {
      "text/html": [
       "<html><script type=\"math/tex; mode=display\">\\newcommand{\\Bold}[1]{\\mathbf{#1}}x_0 =  \\left(1,\\,1\\right)</script></html>"
      ],
      "text/plain": [
       "x_0 =  (1, 1)"
      ]
     },
     "metadata": {},
     "output_type": "display_data"
    },
    {
     "data": {
      "text/html": [
       "<html><script type=\"math/tex; mode=display\">\\newcommand{\\Bold}[1]{\\mathbf{#1}}x_1 =  \\left(\\frac{1}{5},\\,-\\frac{1}{30}\\right)</script></html>"
      ],
      "text/plain": [
       "x_1 =  (1/5, -1/30)"
      ]
     },
     "metadata": {},
     "output_type": "display_data"
    },
    {
     "data": {
      "text/html": [
       "<html><script type=\"math/tex; mode=display\">\\newcommand{\\Bold}[1]{\\mathbf{#1}}x_2 =  \\left(-\\frac{21}{50},\\,-\\frac{67}{150}\\right)</script></html>"
      ],
      "text/plain": [
       "x_2 =  (-21/50, -67/150)"
      ]
     },
     "metadata": {},
     "output_type": "display_data"
    }
   ],
   "source": [
    "# perform n steps of the iteration, saving the result\n",
    "x = [x0]\n",
    "show(LatexExpr(\"x_0 = \"), x0)\n",
    "for i in range(n):\n",
    "    xk = TGS * x[-1] + DLb\n",
    "    x.append(xk)\n",
    "    show(LatexExpr(\"x_{} = \".format(i + 1)), xk)"
   ]
  },
  {
   "cell_type": "code",
   "execution_count": 5,
   "metadata": {
    "collapsed": false
   },
   "outputs": [
    {
     "data": {
      "text/html": [
       "<html><script type=\"math/tex; mode=display\">\\newcommand{\\Bold}[1]{\\mathbf{#1}}x_n \\approx  \\left(-0.42,\\,-0.446666666667\\right)</script></html>"
      ],
      "text/plain": [
       "x_n \\approx  (-0.42, -0.44666666666666666)"
      ]
     },
     "metadata": {},
     "output_type": "display_data"
    }
   ],
   "source": [
    "show(LatexExpr(r\"x_n \\approx \"), vector(RDF, x[-1]))"
   ]
  },
  {
   "cell_type": "markdown",
   "metadata": {},
   "source": [
    "Aufteilen von $A$ in $$A = S - T$$ wobei $S$ eine linke untere Dreiecksmatrix ist"
   ]
  },
  {
   "cell_type": "code",
   "execution_count": 6,
   "metadata": {
    "collapsed": false
   },
   "outputs": [
    {
     "data": {
      "text/html": [
       "<html><script type=\"math/tex; mode=display\">\\newcommand{\\Bold}[1]{\\mathbf{#1}}\\left(\\begin{array}{rr}\n",
       "5 & 0 \\\\\n",
       "4 & -6\n",
       "\\end{array}\\right) \\left(\\begin{array}{rr}\n",
       "0 & -3 \\\\\n",
       "0 & 0\n",
       "\\end{array}\\right)</script></html>"
      ],
      "text/plain": [
       "[ 5  0]\n",
       "[ 4 -6] [ 0 -3]\n",
       "[ 0  0]"
      ]
     },
     "metadata": {},
     "output_type": "display_data"
    }
   ],
   "source": [
    "S = matrix([[A[i,j] if j <= i else 0\n",
    "             for j in range(A.dimensions()[1])] \n",
    "             for i in range(A.dimensions()[0])\n",
    "            ])\n",
    "T = matrix([[A[i,j] if j > i else 0\n",
    "             for j in range(A.dimensions()[1])] \n",
    "             for i in range(A.dimensions()[0])\n",
    "            ])\n",
    "assert A == S + T\n",
    "show(S, T)"
   ]
  },
  {
   "cell_type": "code",
   "execution_count": 7,
   "metadata": {
    "collapsed": false
   },
   "outputs": [
    {
     "data": {
      "text/html": [
       "<html><script type=\"math/tex; mode=display\">\\newcommand{\\Bold}[1]{\\mathbf{#1}}\\left(\\begin{array}{rr}\n",
       "0 & -\\frac{3}{5} \\\\\n",
       "0 & -\\frac{2}{5}\n",
       "\\end{array}\\right)</script></html>"
      ],
      "text/plain": [
       "[   0 -3/5]\n",
       "[   0 -2/5]"
      ]
     },
     "metadata": {},
     "output_type": "display_data"
    }
   ],
   "source": [
    "sit = S^-1 * T\n",
    "show(sit)"
   ]
  },
  {
   "cell_type": "markdown",
   "metadata": {},
   "source": [
    "Spekatralradius $\\rho(S^{-1}T) = \\max |\\lambda_i|$"
   ]
  },
  {
   "cell_type": "code",
   "execution_count": 8,
   "metadata": {
    "collapsed": false
   },
   "outputs": [
    {
     "data": {
      "text/html": [
       "<html><script type=\"math/tex; mode=display\">\\newcommand{\\Bold}[1]{\\mathbf{#1}}\\frac{2}{5}</script></html>"
      ],
      "text/plain": [
       "2/5"
      ]
     },
     "metadata": {},
     "output_type": "display_data"
    }
   ],
   "source": [
    "spektral_radius = lambda M: max(map(abs, M.eigenvalues()))\n",
    "show(spektral_radius(sit))"
   ]
  },
  {
   "cell_type": "markdown",
   "metadata": {},
   "source": [
    "Konvergenzrate $r = - \\log_{10} \\rho(S^{-1} T)$"
   ]
  },
  {
   "cell_type": "code",
   "execution_count": 9,
   "metadata": {
    "collapsed": false
   },
   "outputs": [
    {
     "data": {
      "text/html": [
       "<html><script type=\"math/tex; mode=display\">\\newcommand{\\Bold}[1]{\\mathbf{#1}}r =  -\\frac{\\log\\left(\\frac{2}{5}\\right)}{\\log\\left(10\\right)} \\approx 0.397940008672</script></html>"
      ],
      "text/plain": [
       "r =  -log(2/5)/log(10) \\approx 0.3979400086720375"
      ]
     },
     "metadata": {},
     "output_type": "display_data"
    }
   ],
   "source": [
    "r = - log(spektral_radius(sit), 10)\n",
    "show(LatexExpr(\"r = \"), r, LatexExpr(r\"\\approx\"), RDF(r))"
   ]
  },
  {
   "cell_type": "markdown",
   "metadata": {},
   "source": [
    "Exakte Lösung zum Vergleich"
   ]
  },
  {
   "cell_type": "code",
   "execution_count": 10,
   "metadata": {
    "collapsed": false
   },
   "outputs": [
    {
     "data": {
      "text/html": [
       "<html><script type=\"math/tex; mode=display\">\\newcommand{\\Bold}[1]{\\mathbf{#1}}\\left(-\\frac{5}{6},\\,-\\frac{13}{18}\\right)</script></html>"
      ],
      "text/plain": [
       "(-5/6, -13/18)"
      ]
     },
     "metadata": {},
     "output_type": "display_data"
    }
   ],
   "source": [
    "show(A^-1 * b)"
   ]
  }
 ],
 "metadata": {
  "kernelspec": {
   "display_name": "SageMath 7.0",
   "language": "",
   "name": "sagemath"
  },
  "language_info": {
   "codemirror_mode": {
    "name": "ipython",
    "version": 2
   },
   "file_extension": ".py",
   "mimetype": "text/x-python",
   "name": "python",
   "nbconvert_exporter": "python",
   "pygments_lexer": "ipython2",
   "version": "2.7.11"
  }
 },
 "nbformat": 4,
 "nbformat_minor": 0
}
