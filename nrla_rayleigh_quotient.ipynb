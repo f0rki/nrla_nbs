{
 "cells": [
  {
   "cell_type": "markdown",
   "metadata": {},
   "source": [
    "# Approximation von Eigenwerten mit Rayleigh-Quotient\n",
    "\n",
    "Gegeben: Matrix $A \\in M(n \\times n)$\n",
    "\n",
    "Gesucht: größter/dominanter Eigenwert, kleinster Eigenwert oder Eigenwert in der Nähe von $\\alpha$"
   ]
  },
  {
   "cell_type": "code",
   "execution_count": 1,
   "metadata": {
    "collapsed": true
   },
   "outputs": [],
   "source": [
    "# input A\n",
    "A = matrix([\n",
    "[3,1],\n",
    "[2,-2]\n",
    "])"
   ]
  },
  {
   "cell_type": "code",
   "execution_count": 2,
   "metadata": {
    "collapsed": true
   },
   "outputs": [],
   "source": [
    "# input start vector v0\n",
    "v0 = vector(\n",
    "[1, 0]\n",
    ")"
   ]
  },
  {
   "cell_type": "code",
   "execution_count": 3,
   "metadata": {
    "collapsed": true
   },
   "outputs": [],
   "source": [
    "# input number of iterations\n",
    "n = 5"
   ]
  },
  {
   "cell_type": "markdown",
   "metadata": {},
   "source": [
    "Approximieren des größten Eigenwertes.\n",
    "\n",
    "$$ x_{s+1} = A x_s $$\n",
    "\n",
    "$$ \\mu_s = \\frac{\\langle x_{s+1}, x_{s} \\rangle}{\\langle x_{s}, x_{s} \\rangle} $$"
   ]
  },
  {
   "cell_type": "code",
   "execution_count": 4,
   "metadata": {
    "collapsed": true
   },
   "outputs": [],
   "source": [
    "MU = []\n",
    "X = [v0]\n",
    "for i in range(n):\n",
    "    x = A * X[-1]\n",
    "    X.append(x)\n",
    "    mui = (X[i+1].dot_product(X[i])) / (X[i].dot_product(X[i]))\n",
    "    MU.append(mui)"
   ]
  },
  {
   "cell_type": "code",
   "execution_count": 5,
   "metadata": {
    "collapsed": false
   },
   "outputs": [
    {
     "data": {
      "text/plain": [
       "[(1, 0), (3, 2), (11, 2), (35, 18), (123, 34), (403, 178)]"
      ]
     },
     "execution_count": 5,
     "metadata": {},
     "output_type": "execute_result"
    }
   ],
   "source": [
    "X"
   ]
  },
  {
   "cell_type": "code",
   "execution_count": 6,
   "metadata": {
    "collapsed": false
   },
   "outputs": [
    {
     "data": {
      "text/plain": [
       "[3, 37/13, 421/125, 4917/1549, 55621/16285]"
      ]
     },
     "execution_count": 6,
     "metadata": {},
     "output_type": "execute_result"
    }
   ],
   "source": [
    "MU"
   ]
  },
  {
   "cell_type": "code",
   "execution_count": 7,
   "metadata": {
    "collapsed": false
   },
   "outputs": [
    {
     "data": {
      "text/plain": [
       "3.415474362910654"
      ]
     },
     "execution_count": 7,
     "metadata": {},
     "output_type": "execute_result"
    }
   ],
   "source": [
    "RDF(MU[-1])"
   ]
  },
  {
   "cell_type": "code",
   "execution_count": 8,
   "metadata": {
    "collapsed": false
   },
   "outputs": [
    {
     "data": {
      "text/plain": [
       "3.372281323269015?"
      ]
     },
     "execution_count": 8,
     "metadata": {},
     "output_type": "execute_result"
    }
   ],
   "source": [
    "max(A.eigenvalues())"
   ]
  },
  {
   "cell_type": "markdown",
   "metadata": {},
   "source": [
    "Approximieren des kleinsten Eigenwertes.\n",
    "\n",
    "$$ x_{s+1} = A^{-1} x_s $$\n",
    "\n",
    "$$ \\mu_s = \\frac{\\langle x_{s+1}, x_{s} \\rangle}{\\langle x_{s}, x_{s} \\rangle} $$"
   ]
  },
  {
   "cell_type": "code",
   "execution_count": 9,
   "metadata": {
    "collapsed": false
   },
   "outputs": [
    {
     "data": {
      "text/plain": [
       "[ 1/4  1/8]\n",
       "[ 1/4 -3/8]"
      ]
     },
     "execution_count": 9,
     "metadata": {},
     "output_type": "execute_result"
    }
   ],
   "source": [
    "Ainv = A^-1\n",
    "Ainv"
   ]
  },
  {
   "cell_type": "code",
   "execution_count": 10,
   "metadata": {
    "collapsed": false
   },
   "outputs": [
    {
     "data": {
      "text/plain": [
       "[(1, 0),\n",
       " (1/4, 1/4),\n",
       " (3/32, -1/32),\n",
       " (5/256, 9/256),\n",
       " (19/2048, -17/2048),\n",
       " (21/16384, 89/16384)]"
      ]
     },
     "execution_count": 10,
     "metadata": {},
     "output_type": "execute_result"
    }
   ],
   "source": [
    "MU = []\n",
    "X = [v0]\n",
    "for i in range(n):\n",
    "    x = Ainv * X[-1]\n",
    "    X.append(x)\n",
    "    mui = (X[i+1].dot_product(X[i])) / (X[i].dot_product(X[i]))\n",
    "    MU.append(mui)\n",
    "X"
   ]
  },
  {
   "cell_type": "code",
   "execution_count": 11,
   "metadata": {
    "collapsed": false
   },
   "outputs": [
    {
     "data": {
      "text/plain": [
       "[1/4, 1/8, 3/40, -29/424, -557/2600]"
      ]
     },
     "execution_count": 11,
     "metadata": {},
     "output_type": "execute_result"
    }
   ],
   "source": [
    "MU"
   ]
  },
  {
   "cell_type": "code",
   "execution_count": 12,
   "metadata": {
    "collapsed": false
   },
   "outputs": [
    {
     "data": {
      "text/plain": [
       "-0.21423076923076922"
      ]
     },
     "execution_count": 12,
     "metadata": {},
     "output_type": "execute_result"
    }
   ],
   "source": [
    "RDF(MU[-1])"
   ]
  },
  {
   "cell_type": "code",
   "execution_count": 13,
   "metadata": {
    "collapsed": false
   },
   "outputs": [
    {
     "data": {
      "text/plain": [
       "-2.372281323269015?"
      ]
     },
     "execution_count": 13,
     "metadata": {},
     "output_type": "execute_result"
    }
   ],
   "source": [
    "min(A.eigenvalues())"
   ]
  },
  {
   "cell_type": "markdown",
   "metadata": {},
   "source": [
    "Approximieren von einem beliebigen Eigenwert in der Nähe von $\\alpha$.\n",
    "\n",
    "$$ x_{s+1} = (A - \\alpha I)^{-1} x_s $$\n",
    "\n",
    "$$ \\mu_s = \\frac{\\langle x_{s+1}, x_{s} \\rangle}{\\langle x_{s}, x_{s} \\rangle} $$"
   ]
  },
  {
   "cell_type": "code",
   "execution_count": 14,
   "metadata": {
    "collapsed": true
   },
   "outputs": [],
   "source": [
    "# input alpha\n",
    "alpha = 4"
   ]
  },
  {
   "cell_type": "code",
   "execution_count": 15,
   "metadata": {
    "collapsed": false
   },
   "outputs": [
    {
     "data": {
      "text/plain": [
       "[-3/2 -1/4]\n",
       "[-1/2 -1/4]"
      ]
     },
     "execution_count": 15,
     "metadata": {},
     "output_type": "execute_result"
    }
   ],
   "source": [
    "AaIinv = (A - (alpha * identity_matrix(*A.dimensions())))^-1\n",
    "AaIinv"
   ]
  },
  {
   "cell_type": "code",
   "execution_count": 16,
   "metadata": {
    "collapsed": false
   },
   "outputs": [
    {
     "data": {
      "text/plain": [
       "[(1, 0),\n",
       " (-3/2, -1/2),\n",
       " (19/8, 7/8),\n",
       " (-121/32, -45/32),\n",
       " (771/128, 287/128),\n",
       " (-4913/512, -1829/512)]"
      ]
     },
     "execution_count": 16,
     "metadata": {},
     "output_type": "execute_result"
    }
   ],
   "source": [
    "MU = []\n",
    "X = [v0]\n",
    "for i in range(n):\n",
    "    x = AaIinv * X[-1]\n",
    "    X.append(x)\n",
    "    mui = (X[i+1].dot_product(X[i])) / (X[i].dot_product(X[i]))\n",
    "    MU.append(mui)\n",
    "X"
   ]
  },
  {
   "cell_type": "code",
   "execution_count": 17,
   "metadata": {
    "collapsed": false
   },
   "outputs": [
    {
     "data": {
      "text/plain": [
       "[-3/2, -8/5, -1307/820, -53103/33332, -2156423/1353620]"
      ]
     },
     "execution_count": 17,
     "metadata": {},
     "output_type": "execute_result"
    }
   ],
   "source": [
    "MU"
   ]
  },
  {
   "cell_type": "code",
   "execution_count": 18,
   "metadata": {
    "collapsed": false
   },
   "outputs": [
    {
     "data": {
      "text/plain": [
       "-1.5930785597139523"
      ]
     },
     "execution_count": 18,
     "metadata": {},
     "output_type": "execute_result"
    }
   ],
   "source": [
    "RDF(MU[-1])"
   ]
  },
  {
   "cell_type": "code",
   "execution_count": 19,
   "metadata": {
    "collapsed": false
   },
   "outputs": [
    {
     "data": {
      "text/plain": [
       "3.372281323269015?"
      ]
     },
     "execution_count": 19,
     "metadata": {},
     "output_type": "execute_result"
    }
   ],
   "source": [
    "min([(abs(e - alpha), e) for e in A.eigenvalues()])[1]"
   ]
  },
  {
   "cell_type": "code",
   "execution_count": null,
   "metadata": {
    "collapsed": true
   },
   "outputs": [],
   "source": []
  }
 ],
 "metadata": {
  "kernelspec": {
   "display_name": "SageMath 6.10",
   "language": "",
   "name": "sagemath"
  },
  "language_info": {
   "codemirror_mode": {
    "name": "ipython",
    "version": 2
   },
   "file_extension": ".py",
   "mimetype": "text/x-python",
   "name": "python",
   "nbconvert_exporter": "python",
   "pygments_lexer": "ipython2",
   "version": "2.7.11"
  }
 },
 "nbformat": 4,
 "nbformat_minor": 0
}
