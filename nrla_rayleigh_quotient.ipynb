{
 "cells": [
  {
   "cell_type": "markdown",
   "metadata": {},
   "source": [
    "# Approximation von Eigenwerten mit Rayleigh-Quotient\n",
    "\n",
    "- Gegeben: Matrix $A \\in M(n \\times n)$\n",
    "- Gesucht: größter/dominanter Eigenwert, kleinster Eigenwert oder Eigenwert in der Nähe von $\\alpha$"
   ]
  },
  {
   "cell_type": "code",
   "execution_count": 1,
   "metadata": {
    "collapsed": true
   },
   "outputs": [],
   "source": [
    "# input: A\n",
    "A = matrix([\n",
    "    [3, 1],\n",
    "    [2, -2]\n",
    "])\n",
    "# input: start vector v0\n",
    "v0 = vector(\n",
    "    [1, 0]\n",
    ")\n",
    "# input number of iterations\n",
    "n = 5\n",
    "#"
   ]
  },
  {
   "cell_type": "markdown",
   "metadata": {},
   "source": [
    "Approximieren des größten Eigenwertes.\n",
    "\n",
    "$$ x_{s+1} = A \\cdot x_s $$\n",
    "\n",
    "$$ \\mu_s = \\frac{\\langle x_{s+1}, x_{s} \\rangle}{\\langle x_{s}, x_{s} \\rangle} $$"
   ]
  },
  {
   "cell_type": "code",
   "execution_count": 2,
   "metadata": {
    "collapsed": true
   },
   "outputs": [],
   "source": [
    "MU = []\n",
    "X = [v0]\n",
    "for i in range(n):\n",
    "    x = A * X[-1]\n",
    "    X.append(x)\n",
    "    mui = (X[i+1].dot_product(X[i])) / (X[i].dot_product(X[i]))\n",
    "    MU.append(mui)"
   ]
  },
  {
   "cell_type": "code",
   "execution_count": 3,
   "metadata": {
    "collapsed": false
   },
   "outputs": [
    {
     "data": {
      "text/html": [
       "<html><script type=\"math/tex; mode=display\">\\newcommand{\\Bold}[1]{\\mathbf{#1}}\\left[\\left(1,\\,0\\right), \\left(3,\\,2\\right), \\left(11,\\,2\\right), \\left(35,\\,18\\right), \\left(123,\\,34\\right), \\left(403,\\,178\\right)\\right]</script></html>"
      ],
      "text/plain": [
       "[(1, 0), (3, 2), (11, 2), (35, 18), (123, 34), (403, 178)]"
      ]
     },
     "metadata": {},
     "output_type": "display_data"
    }
   ],
   "source": [
    "show(X)"
   ]
  },
  {
   "cell_type": "code",
   "execution_count": 4,
   "metadata": {
    "collapsed": false
   },
   "outputs": [
    {
     "data": {
      "text/html": [
       "<html><script type=\"math/tex; mode=display\">\\newcommand{\\Bold}[1]{\\mathbf{#1}}\\left[3, \\frac{37}{13}, \\frac{421}{125}, \\frac{4917}{1549}, \\frac{55621}{16285}\\right]</script></html>"
      ],
      "text/plain": [
       "[3, 37/13, 421/125, 4917/1549, 55621/16285]"
      ]
     },
     "metadata": {},
     "output_type": "display_data"
    }
   ],
   "source": [
    "show(MU)"
   ]
  },
  {
   "cell_type": "code",
   "execution_count": 5,
   "metadata": {
    "collapsed": false
   },
   "outputs": [
    {
     "data": {
      "text/html": [
       "<html><script type=\"math/tex; mode=display\">\\newcommand{\\Bold}[1]{\\mathbf{#1}}3.41547436291</script></html>"
      ],
      "text/plain": [
       "3.415474362910654"
      ]
     },
     "metadata": {},
     "output_type": "display_data"
    }
   ],
   "source": [
    "show(RDF(MU[-1]))"
   ]
  },
  {
   "cell_type": "code",
   "execution_count": 6,
   "metadata": {
    "collapsed": false
   },
   "outputs": [
    {
     "data": {
      "text/html": [
       "<html><script type=\"math/tex; mode=display\">\\newcommand{\\Bold}[1]{\\mathbf{#1}}3.372281323269015?</script></html>"
      ],
      "text/plain": [
       "3.372281323269015?"
      ]
     },
     "metadata": {},
     "output_type": "display_data"
    }
   ],
   "source": [
    "show(max(A.eigenvalues()))"
   ]
  },
  {
   "cell_type": "markdown",
   "metadata": {},
   "source": [
    "Approximieren des kleinsten Eigenwertes.\n",
    "\n",
    "$$ x_{s+1} = A^{-1} \\cdot x_s $$\n",
    "\n",
    "$$ \\mu_s = \\frac{\\langle x_{s+1}, x_{s} \\rangle}{\\langle x_{s}, x_{s} \\rangle} $$"
   ]
  },
  {
   "cell_type": "code",
   "execution_count": 7,
   "metadata": {
    "collapsed": false
   },
   "outputs": [
    {
     "data": {
      "text/html": [
       "<html><script type=\"math/tex; mode=display\">\\newcommand{\\Bold}[1]{\\mathbf{#1}}\\left(\\begin{array}{rr}\n",
       "\\frac{1}{4} & \\frac{1}{8} \\\\\n",
       "\\frac{1}{4} & -\\frac{3}{8}\n",
       "\\end{array}\\right)</script></html>"
      ],
      "text/plain": [
       "[ 1/4  1/8]\n",
       "[ 1/4 -3/8]"
      ]
     },
     "metadata": {},
     "output_type": "display_data"
    }
   ],
   "source": [
    "Ainv = A^-1\n",
    "show(Ainv)"
   ]
  },
  {
   "cell_type": "code",
   "execution_count": 8,
   "metadata": {
    "collapsed": false
   },
   "outputs": [
    {
     "data": {
      "text/html": [
       "<html><script type=\"math/tex; mode=display\">\\newcommand{\\Bold}[1]{\\mathbf{#1}}\\left[\\left(1,\\,0\\right), \\left(\\frac{1}{4},\\,\\frac{1}{4}\\right), \\left(\\frac{3}{32},\\,-\\frac{1}{32}\\right), \\left(\\frac{5}{256},\\,\\frac{9}{256}\\right), \\left(\\frac{19}{2048},\\,-\\frac{17}{2048}\\right), \\left(\\frac{21}{16384},\\,\\frac{89}{16384}\\right)\\right]</script></html>"
      ],
      "text/plain": [
       "[(1, 0),\n",
       " (1/4, 1/4),\n",
       " (3/32, -1/32),\n",
       " (5/256, 9/256),\n",
       " (19/2048, -17/2048),\n",
       " (21/16384, 89/16384)]"
      ]
     },
     "metadata": {},
     "output_type": "display_data"
    }
   ],
   "source": [
    "MU = []\n",
    "X = [v0]\n",
    "for i in range(n):\n",
    "    x = Ainv * X[-1]\n",
    "    X.append(x)\n",
    "    mui = (X[i+1].dot_product(X[i])) / (X[i].dot_product(X[i]))\n",
    "    MU.append(mui)\n",
    "show(X)"
   ]
  },
  {
   "cell_type": "code",
   "execution_count": 9,
   "metadata": {
    "collapsed": false
   },
   "outputs": [
    {
     "data": {
      "text/html": [
       "<html><script type=\"math/tex; mode=display\">\\newcommand{\\Bold}[1]{\\mathbf{#1}}\\left[\\frac{1}{4}, \\frac{1}{8}, \\frac{3}{40}, -\\frac{29}{424}, -\\frac{557}{2600}\\right]</script></html>"
      ],
      "text/plain": [
       "[1/4, 1/8, 3/40, -29/424, -557/2600]"
      ]
     },
     "metadata": {},
     "output_type": "display_data"
    }
   ],
   "source": [
    "show(MU)"
   ]
  },
  {
   "cell_type": "code",
   "execution_count": 10,
   "metadata": {
    "collapsed": false
   },
   "outputs": [
    {
     "data": {
      "text/html": [
       "<html><script type=\"math/tex; mode=display\">\\newcommand{\\Bold}[1]{\\mathbf{#1}}-0.214230769231</script></html>"
      ],
      "text/plain": [
       "-0.21423076923076922"
      ]
     },
     "metadata": {},
     "output_type": "display_data"
    }
   ],
   "source": [
    "show(RDF(MU[-1]))"
   ]
  },
  {
   "cell_type": "code",
   "execution_count": 11,
   "metadata": {
    "collapsed": false
   },
   "outputs": [
    {
     "data": {
      "text/html": [
       "<html><script type=\"math/tex; mode=display\">\\newcommand{\\Bold}[1]{\\mathbf{#1}}-2.372281323269015?</script></html>"
      ],
      "text/plain": [
       "-2.372281323269015?"
      ]
     },
     "metadata": {},
     "output_type": "display_data"
    }
   ],
   "source": [
    "show(min(A.eigenvalues()))"
   ]
  },
  {
   "cell_type": "markdown",
   "metadata": {},
   "source": [
    "Approximieren von einem beliebigen Eigenwert in der Nähe von $\\alpha$.\n",
    "\n",
    "$$ x_{s+1} = (A - \\alpha I)^{-1} \\cdot x_s $$\n",
    "\n",
    "$$ \\mu_s = \\frac{\\langle x_{s+1}, x_{s} \\rangle}{\\langle x_{s}, x_{s} \\rangle} $$"
   ]
  },
  {
   "cell_type": "code",
   "execution_count": 12,
   "metadata": {
    "collapsed": true
   },
   "outputs": [],
   "source": [
    "# input: alpha\n",
    "alpha = 4\n",
    "#"
   ]
  },
  {
   "cell_type": "code",
   "execution_count": 13,
   "metadata": {
    "collapsed": false
   },
   "outputs": [
    {
     "data": {
      "text/html": [
       "<html><script type=\"math/tex; mode=display\">\\newcommand{\\Bold}[1]{\\mathbf{#1}}\\left(\\begin{array}{rr}\n",
       "-\\frac{3}{2} & -\\frac{1}{4} \\\\\n",
       "-\\frac{1}{2} & -\\frac{1}{4}\n",
       "\\end{array}\\right)</script></html>"
      ],
      "text/plain": [
       "[-3/2 -1/4]\n",
       "[-1/2 -1/4]"
      ]
     },
     "metadata": {},
     "output_type": "display_data"
    }
   ],
   "source": [
    "AaIinv = (A - (alpha * identity_matrix(*A.dimensions())))^-1\n",
    "show(AaIinv)"
   ]
  },
  {
   "cell_type": "code",
   "execution_count": 14,
   "metadata": {
    "collapsed": false
   },
   "outputs": [
    {
     "data": {
      "text/html": [
       "<html><script type=\"math/tex; mode=display\">\\newcommand{\\Bold}[1]{\\mathbf{#1}}\\left[\\left(1,\\,0\\right), \\left(-\\frac{3}{2},\\,-\\frac{1}{2}\\right), \\left(\\frac{19}{8},\\,\\frac{7}{8}\\right), \\left(-\\frac{121}{32},\\,-\\frac{45}{32}\\right), \\left(\\frac{771}{128},\\,\\frac{287}{128}\\right), \\left(-\\frac{4913}{512},\\,-\\frac{1829}{512}\\right)\\right]</script></html>"
      ],
      "text/plain": [
       "[(1, 0),\n",
       " (-3/2, -1/2),\n",
       " (19/8, 7/8),\n",
       " (-121/32, -45/32),\n",
       " (771/128, 287/128),\n",
       " (-4913/512, -1829/512)]"
      ]
     },
     "metadata": {},
     "output_type": "display_data"
    }
   ],
   "source": [
    "MU = []\n",
    "X = [v0]\n",
    "for i in range(n):\n",
    "    x = AaIinv * X[-1]\n",
    "    X.append(x)\n",
    "    mui = (X[i+1].dot_product(X[i])) / (X[i].dot_product(X[i]))\n",
    "    MU.append(mui)\n",
    "show(X)"
   ]
  },
  {
   "cell_type": "code",
   "execution_count": 15,
   "metadata": {
    "collapsed": false
   },
   "outputs": [
    {
     "data": {
      "text/html": [
       "<html><script type=\"math/tex; mode=display\">\\newcommand{\\Bold}[1]{\\mathbf{#1}}\\left[-\\frac{3}{2}, -\\frac{8}{5}, -\\frac{1307}{820}, -\\frac{53103}{33332}, -\\frac{2156423}{1353620}\\right]</script></html>"
      ],
      "text/plain": [
       "[-3/2, -8/5, -1307/820, -53103/33332, -2156423/1353620]"
      ]
     },
     "metadata": {},
     "output_type": "display_data"
    }
   ],
   "source": [
    "show(MU)"
   ]
  },
  {
   "cell_type": "code",
   "execution_count": 16,
   "metadata": {
    "collapsed": false
   },
   "outputs": [
    {
     "data": {
      "text/html": [
       "<html><script type=\"math/tex; mode=display\">\\newcommand{\\Bold}[1]{\\mathbf{#1}}-1.59307855971</script></html>"
      ],
      "text/plain": [
       "-1.5930785597139523"
      ]
     },
     "metadata": {},
     "output_type": "display_data"
    }
   ],
   "source": [
    "show(RDF(MU[-1]))"
   ]
  },
  {
   "cell_type": "code",
   "execution_count": 17,
   "metadata": {
    "collapsed": false
   },
   "outputs": [
    {
     "data": {
      "text/html": [
       "<html><script type=\"math/tex; mode=display\">\\newcommand{\\Bold}[1]{\\mathbf{#1}}3.372281323269015?</script></html>"
      ],
      "text/plain": [
       "3.372281323269015?"
      ]
     },
     "metadata": {},
     "output_type": "display_data"
    }
   ],
   "source": [
    "show(min([(abs(e - alpha), e) for e in A.eigenvalues()])[1])"
   ]
  }
 ],
 "metadata": {
  "kernelspec": {
   "display_name": "SageMath 7.0",
   "language": "",
   "name": "sagemath"
  },
  "language_info": {
   "codemirror_mode": {
    "name": "ipython",
    "version": 2
   },
   "file_extension": ".py",
   "mimetype": "text/x-python",
   "name": "python",
   "nbconvert_exporter": "python",
   "pygments_lexer": "ipython2",
   "version": "2.7.11"
  }
 },
 "nbformat": 4,
 "nbformat_minor": 0
}
