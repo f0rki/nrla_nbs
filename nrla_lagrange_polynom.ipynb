{
 "cells": [
  {
   "cell_type": "markdown",
   "metadata": {},
   "source": [
    "# Lagrange-Interpolationspolynom\n",
    "\n",
    "- Gegeben sind $n$ Punkte einer unbekannten Funktion $y = f(x)$\n",
    "- Gesucht ist das Interpolationspolynom $P_n(x)$, dass an den gegebenen Punkten mit $f(x)$ übereinstimmt."
   ]
  },
  {
   "cell_type": "code",
   "execution_count": 1,
   "metadata": {
    "collapsed": true
   },
   "outputs": [],
   "source": [
    "# input given points\n",
    "points = [\n",
    "    (0, 2),\n",
    "    (1, 2),\n",
    "    (2, 1),\n",
    "    (3, -1),\n",
    "]\n",
    "#"
   ]
  },
  {
   "cell_type": "code",
   "execution_count": 2,
   "metadata": {
    "collapsed": true
   },
   "outputs": [],
   "source": [
    "n = len(points)\n",
    "X = [p[0] for p in points]\n",
    "Y = [p[1] for p in points]"
   ]
  },
  {
   "cell_type": "markdown",
   "metadata": {},
   "source": [
    "$$L_{n,k} = \\frac{(x - x_0) \\cdots (x - x_{k-1}) \\cdot (x - x_{k+1}) \\cdots (x - x_n)}\n",
    "{(x_k - x_0) \\cdots (x_k - x_{k-1}) \\cdot (x_k - x_{k+1}) \\cdots (x_k - x_n)}$$"
   ]
  },
  {
   "cell_type": "code",
   "execution_count": 3,
   "metadata": {
    "collapsed": true
   },
   "outputs": [],
   "source": [
    "L = []\n",
    "var('x')\n",
    "for k in range(n):\n",
    "    Lnk = (prod([(x - X[i]) for i in range(len(X)) if i != k])) / (prod([(X[k] - X[i]) for i in range(len(X)) if i != k]))\n",
    "    L.append(Lnk.simplify_full())"
   ]
  },
  {
   "cell_type": "code",
   "execution_count": 4,
   "metadata": {
    "collapsed": false
   },
   "outputs": [
    {
     "data": {
      "text/html": [
       "<html><script type=\"math/tex; mode=display\">\\newcommand{\\Bold}[1]{\\mathbf{#1}}L_{ 4, 0 } =  -\\frac{1}{6} \\, x^{3} + x^{2} - \\frac{11}{6} \\, x + 1</script></html>"
      ],
      "text/plain": [
       "L_{ 4, 0 } =  -1/6*x^3 + x^2 - 11/6*x + 1"
      ]
     },
     "metadata": {},
     "output_type": "display_data"
    },
    {
     "data": {
      "text/html": [
       "<html><script type=\"math/tex; mode=display\">\\newcommand{\\Bold}[1]{\\mathbf{#1}}L_{ 4, 1 } =  \\frac{1}{2} \\, x^{3} - \\frac{5}{2} \\, x^{2} + 3 \\, x</script></html>"
      ],
      "text/plain": [
       "L_{ 4, 1 } =  1/2*x^3 - 5/2*x^2 + 3*x"
      ]
     },
     "metadata": {},
     "output_type": "display_data"
    },
    {
     "data": {
      "text/html": [
       "<html><script type=\"math/tex; mode=display\">\\newcommand{\\Bold}[1]{\\mathbf{#1}}L_{ 4, 2 } =  -\\frac{1}{2} \\, x^{3} + 2 \\, x^{2} - \\frac{3}{2} \\, x</script></html>"
      ],
      "text/plain": [
       "L_{ 4, 2 } =  -1/2*x^3 + 2*x^2 - 3/2*x"
      ]
     },
     "metadata": {},
     "output_type": "display_data"
    },
    {
     "data": {
      "text/html": [
       "<html><script type=\"math/tex; mode=display\">\\newcommand{\\Bold}[1]{\\mathbf{#1}}L_{ 4, 3 } =  \\frac{1}{6} \\, x^{3} - \\frac{1}{2} \\, x^{2} + \\frac{1}{3} \\, x</script></html>"
      ],
      "text/plain": [
       "L_{ 4, 3 } =  1/6*x^3 - 1/2*x^2 + 1/3*x"
      ]
     },
     "metadata": {},
     "output_type": "display_data"
    }
   ],
   "source": [
    "for i, l in enumerate(L):\n",
    "    show(LatexExpr(r\"L_{{ {}, {} }} = \".format(n, i)), l)"
   ]
  },
  {
   "cell_type": "markdown",
   "metadata": {},
   "source": [
    "$$P_n(x) = \\sum_{k=0}^{n} f(x_k) \\cdot L_{n,k}$$"
   ]
  },
  {
   "cell_type": "code",
   "execution_count": 5,
   "metadata": {
    "collapsed": false
   },
   "outputs": [
    {
     "data": {
      "text/html": [
       "<html><script type=\"math/tex; mode=display\">\\newcommand{\\Bold}[1]{\\mathbf{#1}}-\\frac{1}{2} \\, x^{2} + \\frac{1}{2} \\, x + 2</script></html>"
      ],
      "text/plain": [
       "-1/2*x^2 + 1/2*x + 2"
      ]
     },
     "metadata": {},
     "output_type": "display_data"
    }
   ],
   "source": [
    "P = sum([Y[k] * L[k] for k in range(n)])\n",
    "show(P.simplify_full())"
   ]
  },
  {
   "cell_type": "code",
   "execution_count": 6,
   "metadata": {
    "collapsed": true
   },
   "outputs": [],
   "source": [
    "# some sanity checking\n",
    "for k in range(n):\n",
    "    yc = P.subs(x=X[k])\n",
    "    yg = Y[k]\n",
    "    assert yc == yg, \"computed y {} != {} given y\".format(yc, yg)"
   ]
  },
  {
   "cell_type": "code",
   "execution_count": 7,
   "metadata": {
    "collapsed": false
   },
   "outputs": [
    {
     "data": {
      "image/png": "[encoded data removed]",
      "text/plain": [
       "Graphics object consisting of 2 graphics primitives"
      ]
     },
     "execution_count": 7,
     "metadata": {},
     "output_type": "execute_result"
    }
   ],
   "source": [
    "R = max(max((p[0], p[1])) for p in points) + 2\n",
    "scatter_plot(points) + plot(P, xmax=R, ymax=R, ymin=-R, xmin=-R)"
   ]
  },
  {
   "cell_type": "code",
   "execution_count": null,
   "metadata": {
    "collapsed": true
   },
   "outputs": [],
   "source": []
  }
 ],
 "metadata": {
  "kernelspec": {
   "display_name": "SageMath 7.0",
   "language": "",
   "name": "sagemath"
  },
  "language_info": {
   "codemirror_mode": {
    "name": "ipython",
    "version": 2
   },
   "file_extension": ".py",
   "mimetype": "text/x-python",
   "name": "python",
   "nbconvert_exporter": "python",
   "pygments_lexer": "ipython2",
   "version": "2.7.11"
  }
 },
 "nbformat": 4,
 "nbformat_minor": 0
}
